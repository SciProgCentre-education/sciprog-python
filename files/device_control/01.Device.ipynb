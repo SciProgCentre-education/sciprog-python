{
 "cells": [
  {
   "cell_type": "markdown",
   "metadata": {
    "pycharm": {
     "name": "#%% md\n"
    }
   },
   "source": [
    "# Отдельные темы для курсового проекта\n",
    "\n",
    "## Тип `bytes`\n",
    "\n",
    "* `bytes` - последовательность целых чисел до `0 <= x < 256`\n",
    "* Неизменяемая версия `bytearray`\n",
    "\n",
    "* Single quotes: `b'still allows embedded \"double\" quotes'`\n",
    "* Double quotes: `b\"still allows embedded 'single' quotes\".`\n",
    "* Triple quoted: `b'''3 single quotes'''`, `b\"\"\"3 double quotes\"\"\"`\n",
    "* A zero-filled bytes object of a specified length: bytes(10)\n",
    "* From an iterable of integers: bytes(range(20))\n",
    "* Copying existing binary data via the buffer protocol: bytes(obj)"
   ]
  },
  {
   "cell_type": "code",
   "execution_count": 3,
   "metadata": {
    "collapsed": false,
    "jupyter": {
     "outputs_hidden": false
    },
    "pycharm": {
     "name": "#%%\n"
    }
   },
   "outputs": [],
   "source": [
    "data = b\"abc\""
   ]
  },
  {
   "cell_type": "code",
   "execution_count": 4,
   "metadata": {
    "collapsed": false,
    "jupyter": {
     "outputs_hidden": false
    },
    "pycharm": {
     "name": "#%%\n"
    }
   },
   "outputs": [
    {
     "data": {
      "text/plain": [
       "97"
      ]
     },
     "execution_count": 4,
     "metadata": {},
     "output_type": "execute_result"
    }
   ],
   "source": [
    "data[0]\n"
   ]
  },
  {
   "cell_type": "code",
   "execution_count": 5,
   "metadata": {
    "collapsed": false,
    "jupyter": {
     "outputs_hidden": false
    },
    "pycharm": {
     "name": "#%%\n"
    }
   },
   "outputs": [
    {
     "data": {
      "text/plain": [
       "bytearray(b'.\\xf0\\xf1\\xf2')"
      ]
     },
     "execution_count": 5,
     "metadata": {},
     "output_type": "execute_result"
    }
   ],
   "source": [
    "bytearray.fromhex('2Ef0 F1f2  ')"
   ]
  },
  {
   "cell_type": "code",
   "execution_count": 6,
   "metadata": {
    "collapsed": false,
    "jupyter": {
     "outputs_hidden": false
    },
    "pycharm": {
     "name": "#%%\n"
    }
   },
   "outputs": [],
   "source": [
    "a = b\"abc\"\n",
    "b = a.replace(b\"a\", b\"f\")\n"
   ]
  },
  {
   "cell_type": "code",
   "execution_count": 7,
   "metadata": {
    "collapsed": false,
    "jupyter": {
     "outputs_hidden": false
    },
    "pycharm": {
     "name": "#%%\n"
    }
   },
   "outputs": [
    {
     "data": {
      "text/plain": [
       "'fbc'"
      ]
     },
     "execution_count": 7,
     "metadata": {},
     "output_type": "execute_result"
    }
   ],
   "source": [
    "b.decode(encoding=\"utf-8\")\n"
   ]
  },
  {
   "cell_type": "markdown",
   "metadata": {
    "pycharm": {
     "name": "#%% md\n"
    }
   },
   "source": [
    "### Super advanced themes\n",
    "\n",
    "* [Memory views](https://docs.python.org/3/library/stdtypes.html#memory-views)\n",
    "* [Buffer Protocol](https://docs.python.org/3/c-api/buffer.html#bufferobjects)"
   ]
  },
  {
   "cell_type": "markdown",
   "metadata": {
    "pycharm": {
     "name": "#%% md\n"
    }
   },
   "source": [
    "## CMD CLI\n",
    "\n",
    "* [CMD](https://docs.python.org/3/library/cmd.html)\n",
    "* [CMD2](https://cmd2.readthedocs.io/en/latest/index.html)\n",
    "\n",
    "## Enum class\n",
    "\n",
    "* [Enum](https://docs.python.org/3/library/enum.html?highlight=enum#module-enum)"
   ]
  },
  {
   "cell_type": "code",
   "execution_count": 1,
   "metadata": {
    "collapsed": false,
    "jupyter": {
     "outputs_hidden": false
    },
    "pycharm": {
     "name": "#%%\n"
    }
   },
   "outputs": [],
   "source": [
    "from enum import Enum\n",
    "class Color(Enum):\n",
    "    RED = 1\n",
    "    GREEN = 2\n",
    "    BLUE = 3"
   ]
  },
  {
   "cell_type": "markdown",
   "metadata": {
    "pycharm": {
     "name": "#%% md\n"
    }
   },
   "source": [
    "* `class enum.Enum` -  Базовый класс, для перечислений\n",
    "* `class enum.IntEnum` - Перечисления типа `int`\n",
    "\n",
    "` `class enum.IntFlag` - поддерживает битовые флаги с целыми числами.\n",
    "\n",
    "* `class enum.Flag` - поддерживает битовые флаги"
   ]
  },
  {
   "cell_type": "code",
   "execution_count": null,
   "metadata": {
    "collapsed": false,
    "jupyter": {
     "outputs_hidden": false
    },
    "pycharm": {
     "name": "#%%\n"
    }
   },
   "outputs": [],
   "source": [
    "from enum import Flag, auto\n",
    "class Color(Flag):\n",
    "    RED = auto()\n",
    "    BLUE = auto()\n",
    "    GREEN = auto()\n",
    "\n",
    "Color.RED & Color.GREEN\n",
    "\n",
    "bool(Color.RED & Color.GREEN)"
   ]
  },
  {
   "cell_type": "code",
   "execution_count": null,
   "metadata": {
    "collapsed": false,
    "jupyter": {
     "outputs_hidden": false
    },
    "pycharm": {
     "name": "#%%\n"
    }
   },
   "outputs": [],
   "source": [
    "class Color(Flag):\n",
    "    RED = auto()\n",
    "    BLUE = auto()\n",
    "    GREEN = auto()\n",
    "    WHITE = RED | BLUE | GREEN\n",
    "\n",
    "Color.WHITE\n",
    "\n",
    "\n"
   ]
  }
 ],
 "metadata": {
  "kernelspec": {
   "display_name": "Python 3 (ipykernel)",
   "language": "python",
   "name": "python3"
  },
  "language_info": {
   "codemirror_mode": {
    "name": "ipython",
    "version": 3
   },
   "file_extension": ".py",
   "mimetype": "text/x-python",
   "name": "python",
   "nbconvert_exporter": "python",
   "pygments_lexer": "ipython3",
   "version": "3.9.6"
  }
 },
 "nbformat": 4,
 "nbformat_minor": 4
}
