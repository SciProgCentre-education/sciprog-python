{
 "cells": [
  {
   "cell_type": "markdown",
   "metadata": {
    "collapsed": true,
    "pycharm": {
     "name": "#%% md\n"
    }
   },
   "source": [
    "# Лекция 6\n",
    "\n",
    "## Передача параметров в программу\n",
    "\n",
    "* `sys.argv` --- параметры передаваемые в скрипт, включая имя скрипта\n",
    "    *  Имя скрипта --- платформенозависимо\n",
    "* Существуют разные форматы для передачи параметров командной строки\n",
    "    * POSIX like options (ie. `tar -zxvf foo.tar.gz`)\n",
    "    * GNU like long options (ie. `du --human-readable --max-depth=1`)\n",
    "    * Java like properties (ie. `java -Djava.awt.headless=true -Djava.net.useSystemProxies=true Foo`)\n",
    "    * Short options with value attached (ie. `gcc -O2 foo.c`)\n",
    "    * Long options with single hyphen (ie. `ant -projecthelp`)\n",
    "* Модули Python для парсинга аргументов\n",
    "    * [argparse](https://docs.python.org/3.9/library/argparse.html?highlight=argparse) --- поставляется в комплекте\n",
    "    * [argparse2](https://argparse2.readthedocs.io/en/latest/) --- продвинутый форк\n",
    "    * [docopt](https://github.com/docopt/docopt) --- парсит `docstring` модуля\n",
    "    * [click](https://palletsprojects.com/p/click/) --- оборачивание функций в декораторы\n",
    "\n",
    "### Модуль `argparse`\n",
    "\n",
    "* Автогенерация help page\n",
    "* Настройка формата\n",
    "* Объединение парсеров в подкоманды\n",
    "\n",
    "## Модуль `logging`\n",
    "* [logging](https://docs.python.org/3/library/logging.html)\n",
    "    * [Basic Tutorial](https://docs.python.org/3/howto/logging.html#logging-basic-tutorial)\n",
    "    * [Advanced Tutorial](https://docs.python.org/3/howto/logging.html#logging-advanced-tutorial)\n",
    "    * [Logging Cookbook](https://docs.python.org/3/howto/logging-cookbook.html#logging-cookbook)\n",
    "* Программа должна вести лог-файл (или даже несколько)\n",
    "* Обычно есть несколько уровней предупреждений:\n",
    "\n",
    "|Level|Value|\n",
    "|---|---|\n",
    "|CRITICAL|50|\n",
    "|ERROR|40|\n",
    "|WARNING|30|\n",
    "|INFO|20|\n",
    "|DEBUG|10|\n",
    "|NOTSET | 0|\n",
    "\n",
    "![](./logging_flow.png)\n",
    "\n",
    "\n",
    "## Дата и время в Python\n",
    "\n",
    "* [Заблуждения программистов относительно времени](https://habr.com/ru/post/146109/)\n",
    "* [Заблуждения большинства программистов относительно «времени»](https://habr.com/ru/post/313274/)\n",
    "* [Заблуждения программистов о Unix-времени](https://habr.com/ru/post/452584/)\n",
    "\n",
    "* [time](https://docs.python.org/3/library/time.html#module-time)\n",
    "* [datatime](https://docs.python.org/3/library/datetime.html)\n",
    "    *  Классы для дат и дат+время\n",
    "    *  Поддержка арифметики дат\n",
    "* [calendar](https://docs.python.org/3/library/calendar.html#module-calendar)\n",
    "* [dateutil](https://dateutil.readthedocs.io/en/stable/) -- сторонее расширенне `datetime`\n",
    "\n",
    "Форматы для времени:\n",
    "* UNIX timestamp\n",
    "* ISO 8601\n",
    "\n",
    "## Работа со строками: шаблоны строк, регулярные выражения\n",
    "\n",
    "### Упрощенные шаблоны строк\n",
    "\n",
    "\n",
    "\n",
    "\n",
    "\n",
    "* расширение коллекций\n",
    "* обработка коллекций\n",
    "* Файловые форматы.\n"
   ]
  },
  {
   "cell_type": "code",
   "execution_count": null,
   "outputs": [],
   "source": [],
   "metadata": {
    "collapsed": false,
    "pycharm": {
     "name": "#%%\n"
    }
   }
  }
 ],
 "metadata": {
  "kernelspec": {
   "display_name": "Python 3",
   "language": "python",
   "name": "python3"
  },
  "language_info": {
   "codemirror_mode": {
    "name": "ipython",
    "version": 2
   },
   "file_extension": ".py",
   "mimetype": "text/x-python",
   "name": "python",
   "nbconvert_exporter": "python",
   "pygments_lexer": "ipython2",
   "version": "2.7.6"
  }
 },
 "nbformat": 4,
 "nbformat_minor": 0
}