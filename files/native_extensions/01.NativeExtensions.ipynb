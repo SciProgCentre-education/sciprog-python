{
 "cells": [
  {
   "cell_type": "markdown",
   "metadata": {
    "collapsed": true,
    "pycharm": {
     "name": "#%% md\n"
    }
   },
   "source": [
    "# Вызов нативного кода\n",
    "\n",
    "* Вызов C/C++ кода из Python:\n",
    "    * Ускорение производительности\n",
    "    * Создание оберток на библотеками для упрощения разработки\n",
    "* Вызов Python скриптов из С/С++:\n",
    "    * Используется как встроенный скриптовый язык, можно использовать от игр до САПР и 3D редакторов.\n"
   ]
  },
  {
   "cell_type": "markdown",
   "source": [
    "## Модуль [ctypes](https://docs.python.org/3/library/ctypes.html)"
   ],
   "metadata": {
    "collapsed": false,
    "pycharm": {
     "name": "#%% md\n"
    }
   }
  },
  {
   "cell_type": "markdown",
   "source": [
    "## Модуль [CFFI]()\n",
    "\n",
    "## SWIG"
   ],
   "metadata": {
    "collapsed": false,
    "pycharm": {
     "name": "#%% md\n"
    }
   }
  },
  {
   "cell_type": "code",
   "execution_count": 65,
   "outputs": [
    {
     "name": "stdout",
     "output_type": "stream",
     "text": [
      "-I/home/zelenyy/miniconda3/envs/sciprog/include/python3.9 -I/home/zelenyy/miniconda3/envs/sciprog/include/python3.9  -Wno-unused-result -Wsign-compare -march=nocona -mtune=haswell -ftree-vectorize -fPIC -fstack-protector-strong -fno-plt -O3 -ffunction-sections -pipe -isystem /home/zelenyy/miniconda3/envs/sciprog/include -fdebug-prefix-map=/tmp/build/80754af9/python-split_1629314979626/work=/usr/local/src/conda/python-3.9.6 -fdebug-prefix-map=/home/zelenyy/miniconda3/envs/sciprog=/usr/local/src/conda-prefix -I/home/zelenyy/miniconda3/envs/sciprog/include -DNDEBUG  -O3 -Wall\r\n"
     ]
    }
   ],
   "source": [
    "!python3-config --cflags"
   ],
   "metadata": {
    "collapsed": false,
    "pycharm": {
     "name": "#%%\n"
    }
   }
  },
  {
   "cell_type": "markdown",
   "source": [
    "## Вызов\n",
    "\n",
    "##\n",
    "\n"
   ],
   "metadata": {
    "collapsed": false,
    "pycharm": {
     "name": "#%% md\n"
    }
   }
  }
 ],
 "metadata": {
  "kernelspec": {
   "display_name": "Python 3",
   "language": "python",
   "name": "python3"
  },
  "language_info": {
   "codemirror_mode": {
    "name": "ipython",
    "version": 2
   },
   "file_extension": ".py",
   "mimetype": "text/x-python",
   "name": "python",
   "nbconvert_exporter": "python",
   "pygments_lexer": "ipython2",
   "version": "2.7.6"
  }
 },
 "nbformat": 4,
 "nbformat_minor": 0
}