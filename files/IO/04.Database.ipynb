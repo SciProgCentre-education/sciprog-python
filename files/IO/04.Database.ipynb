{
 "cells": [
  {
   "cell_type": "markdown",
   "source": [
    "# Базы данных (Database) и СУБД"
   ],
   "metadata": {
    "collapsed": false
   }
  },
  {
   "cell_type": "markdown",
   "source": [
    "* Долговременное хранение данных\n",
    "* Хранение связанных данных и отношенийй между ними, систематизация данных\n",
    "* Эффективный поиск и селекция"
   ],
   "metadata": {
    "collapsed": false
   }
  },
  {
   "cell_type": "markdown",
   "source": [
    "## СУБД\n",
    "\n",
    "* Доступ к данных из нескольких программ\n",
    "* Обеспечение атомарности, согласованности, изолированности и долговечности данных (ACID)"
   ],
   "metadata": {
    "collapsed": false
   }
  },
  {
   "cell_type": "markdown",
   "source": [
    "## ACID\n",
    "* Атомарность - гарантирует, что никакая транзакция не будет зафиксирована в системе частично.\n",
    "* Согласованность - после заверешения транзакции данные целостны и не противоречат друг другу.\n",
    "* Изолированность - во время выполнения транзакции параллельные транзакции не должны оказывать влияния на её результат.\n",
    "* Долговечность - если транзакция успешно проведена, то значит данные действительно сохранены."
   ],
   "metadata": {
    "collapsed": false
   }
  },
  {
   "cell_type": "markdown",
   "source": [
    "**SQL** - распространненный язык для составления запросов к БД"
   ],
   "metadata": {
    "collapsed": false
   }
  },
  {
   "cell_type": "markdown",
   "source": [
    "## Python Database API Specification v2.0\n",
    "\n",
    "* [PEP 249](https://www.python.org/dev/peps/pep-0249/)\n",
    "* Приведение модулей для работы с различным базами данных к единому интерфейсу.\n",
    "* Обеспечивает универсальность работы и модульную замену\n",
    "* [Python Database Propgramming](https://wiki.python.org/moin/DatabaseProgramming)"
   ],
   "metadata": {
    "collapsed": false
   }
  },
  {
   "cell_type": "markdown",
   "source": [
    "## SQLite\n",
    "\n",
    "* Компактная, встраиваемая БД.\n",
    "* Хранит данные в файле, блокирующая однопользовательская\n",
    "* [Сайте](https://www.sqlite.org/index.html)\n",
    "* [Wiki](https://ru.wikipedia.org/wiki/SQLite)"
   ],
   "metadata": {
    "collapsed": false,
    "pycharm": {
     "name": "#%% md\n"
    }
   }
  },
  {
   "cell_type": "code",
   "execution_count": null,
   "outputs": [],
   "source": [
    "import sqlite3"
   ],
   "metadata": {
    "collapsed": false,
    "pycharm": {
     "name": "#%%\n"
    }
   }
  },
  {
   "cell_type": "markdown",
   "source": [
    "Можно подключится к файлу БД"
   ],
   "metadata": {
    "collapsed": false,
    "pycharm": {
     "name": "#%% md\n"
    }
   }
  },
  {
   "cell_type": "code",
   "source": [
    "# con = sqlite3.connect('example.db') "
   ],
   "metadata": {
    "collapsed": false,
    "pycharm": {
     "name": "#%%\n"
    }
   },
   "execution_count": null,
   "outputs": []
  },
  {
   "cell_type": "markdown",
   "source": [
    "Mожно создать БД в памяти, см. [In-memory database](https://en.wikipedia.org/wiki/In-memory_database)"
   ],
   "metadata": {
    "collapsed": false,
    "pycharm": {
     "name": "#%% md\n"
    }
   }
  },
  {
   "cell_type": "code",
   "source": [
    "con = sqlite3.connect(':memory:')"
   ],
   "metadata": {
    "collapsed": false,
    "pycharm": {
     "name": "#%%\n"
    }
   },
   "execution_count": null,
   "outputs": []
  },
  {
   "cell_type": "code",
   "execution_count": null,
   "outputs": [],
   "source": [
    "# TODO(Придумать схему таблицы и код для генерации данных)\n",
    "# TODO(Использование адаптеров и конверторов)"
   ],
   "metadata": {
    "collapsed": false,
    "pycharm": {
     "name": "#%%\n"
    }
   }
  },
  {
   "cell_type": "code",
   "execution_count": null,
   "outputs": [],
   "source": [
    "cur = con.cursor()\n",
    "\n",
    "# Create table\n",
    "cur.execute('''CREATE TABLE stocks\n",
    "               (date text, trans text, symbol text, qty real, price real)''')\n",
    "\n",
    "# Insert a row of data\n",
    "cur.execute(\"INSERT INTO stocks VALUES ('2006-01-05','BUY','RHAT',100,35.14)\")\n",
    "\n",
    "# Save (commit) the changes\n",
    "con.commit()\n"
   ],
   "metadata": {
    "collapsed": false,
    "pycharm": {
     "name": "#%%\n"
    }
   }
  },
  {
   "cell_type": "code",
   "execution_count": null,
   "outputs": [],
   "source": [
    "# Successful, con.commit() is called automatically afterwards\n",
    "with con:\n",
    "    con.execute(\"\", (\"\",))"
   ],
   "metadata": {
    "collapsed": false,
    "pycharm": {
     "name": "#%%\n"
    }
   }
  },
  {
   "cell_type": "code",
   "execution_count": null,
   "outputs": [],
   "source": [
    "# Connection object used as context manager only commits or rollbacks transactions,\n",
    "# so the connection object should be closed manually\n",
    "con.close()"
   ],
   "metadata": {
    "collapsed": false,
    "pycharm": {
     "name": "#%%\n"
    }
   }
  },
  {
   "cell_type": "markdown",
   "source": [
    "## SQAlchemy\n",
    "\n",
    "* Высокоуровневая библиотека для работы с базами данными\n",
    "* Для доступа в базу данных может использовать разные драйверы удовлетворяющий DPAPI\n",
    "\n",
    "![](./sqla_engine_arch.png)\n",
    "\n",
    "* **SQLAlchemy Core** --- Python DSL for SQL\n",
    "* **SQLAlchemy ORM** --- object relational mapping\n",
    "\n",
    "### Object Relational Mapping\n",
    "\n",
    "Проблема:\n",
    " * Данные в БД хранятся в виде таблиц\n",
    " * Данные в программе представлены в виде классов и объектов\n",
    " * Возникает необходимость писать лишний код для взаимодейсвтия с базой данной --- CRUD операции: (Create, Read, Update, Delete)\n",
    "Решение:\n",
    " * ORM технологии для автоматического отображения классов в базу данных"
   ],
   "metadata": {
    "collapsed": false
   }
  },
  {
   "cell_type": "code",
   "execution_count": null,
   "outputs": [],
   "source": [
    "import sqlalchemy\n",
    "sqlalchemy.__version__"
   ],
   "metadata": {
    "collapsed": false,
    "pycharm": {
     "name": "#%%\n"
    }
   }
  },
  {
   "cell_type": "code",
   "execution_count": null,
   "outputs": [],
   "source": [
    "from sqlalchemy import create_engine\n",
    "engine = create_engine(\"sqlite+pysqlite:///:memory:\", echo=True, future=True)"
   ],
   "metadata": {
    "collapsed": false,
    "pycharm": {
     "name": "#%%\n"
    }
   }
  },
  {
   "cell_type": "code",
   "execution_count": null,
   "outputs": [],
   "source": [
    "from sqlalchemy import MetaData\n",
    "from sqlalchemy import Table, Column, Integer, String, DateTime\n",
    "import datetime\n",
    "\n",
    "metadata = MetaData()\n",
    "table = Table('table', metadata,\n",
    "    Column('id', Integer(), primary_key=True),\n",
    "    Column('name', String(200), nullable=False),\n",
    "    Column('timestamp', DateTime(), default=datetime.datetime.now),\n",
    ")\n",
    "\n",
    "metadata.create_all(engine)"
   ],
   "metadata": {
    "collapsed": false,
    "pycharm": {
     "name": "#%%\n"
    }
   }
  },
  {
   "cell_type": "code",
   "execution_count": 17,
   "outputs": [
    {
     "name": "stdout",
     "output_type": "stream",
     "text": [
      "INSERT INTO \"table\" (name, timestamp) VALUES (:name, :timestamp)\n"
     ]
    }
   ],
   "source": [
    "stmt = table.insert().values(name=\"NAMENAME\")\n",
    "print(stmt)"
   ],
   "metadata": {
    "collapsed": false,
    "pycharm": {
     "name": "#%%\n"
    }
   }
  },
  {
   "cell_type": "code",
   "execution_count": 18,
   "outputs": [
    {
     "name": "stdout",
     "output_type": "stream",
     "text": [
      "2021-11-09 15:41:53,731 INFO sqlalchemy.engine.Engine BEGIN (implicit)\n",
      "2021-11-09 15:41:53,732 INFO sqlalchemy.engine.Engine INSERT INTO \"table\" (name, timestamp) VALUES (?, ?)\n",
      "2021-11-09 15:41:53,733 INFO sqlalchemy.engine.Engine [generated in 0.00210s] ('NAMENAME', '2021-11-09 15:41:53.731127')\n",
      "(1,)\n",
      "2021-11-09 15:41:53,734 INFO sqlalchemy.engine.Engine ROLLBACK\n"
     ]
    }
   ],
   "source": [
    "with engine.connect() as conn:\n",
    "    r = conn.execute(stmt)\n",
    "    print(r.inserted_primary_key)"
   ],
   "metadata": {
    "collapsed": false,
    "pycharm": {
     "name": "#%%\n"
    }
   }
  },
  {
   "cell_type": "code",
   "execution_count": 23,
   "outputs": [
    {
     "name": "stdout",
     "output_type": "stream",
     "text": [
      "2021-11-09 15:46:16,349 INFO sqlalchemy.engine.Engine BEGIN (implicit)\n",
      "2021-11-09 15:46:16,350 INFO sqlalchemy.engine.Engine PRAGMA main.table_info(\"table\")\n",
      "2021-11-09 15:46:16,351 INFO sqlalchemy.engine.Engine [raw sql] ()\n",
      "2021-11-09 15:46:16,353 INFO sqlalchemy.engine.Engine PRAGMA temp.table_info(\"table\")\n",
      "2021-11-09 15:46:16,354 INFO sqlalchemy.engine.Engine [raw sql] ()\n",
      "2021-11-09 15:46:16,355 INFO sqlalchemy.engine.Engine COMMIT\n"
     ]
    }
   ],
   "source": [
    "metadata.drop_all(engine)"
   ],
   "metadata": {
    "collapsed": false,
    "pycharm": {
     "name": "#%%\n"
    }
   }
  },
  {
   "cell_type": "code",
   "execution_count": 28,
   "outputs": [
    {
     "name": "stdout",
     "output_type": "stream",
     "text": [
      "2021-11-09 15:49:18,289 INFO sqlalchemy.engine.Engine BEGIN (implicit)\n",
      "2021-11-09 15:49:18,290 INFO sqlalchemy.engine.Engine PRAGMA main.table_info(\"table\")\n",
      "2021-11-09 15:49:18,291 INFO sqlalchemy.engine.Engine [raw sql] ()\n",
      "2021-11-09 15:49:18,292 INFO sqlalchemy.engine.Engine PRAGMA temp.table_info(\"table\")\n",
      "2021-11-09 15:49:18,292 INFO sqlalchemy.engine.Engine [raw sql] ()\n",
      "2021-11-09 15:49:18,294 INFO sqlalchemy.engine.Engine \n",
      "CREATE TABLE \"table\" (\n",
      "\tid INTEGER NOT NULL, \n",
      "\tname VARCHAR(200) NOT NULL, \n",
      "\ttimestamp DATETIME, \n",
      "\tPRIMARY KEY (id)\n",
      ")\n",
      "\n",
      "\n",
      "2021-11-09 15:49:18,294 INFO sqlalchemy.engine.Engine [no key 0.00068s] ()\n",
      "2021-11-09 15:49:18,297 INFO sqlalchemy.engine.Engine COMMIT\n"
     ]
    }
   ],
   "source": [
    "from sqlalchemy.orm import declarative_base\n",
    "\n",
    "Base = declarative_base()\n",
    "\n",
    "class MySomeTable(Base):\n",
    "    __tablename__ = \"table\"\n",
    "    id = Column(Integer, primary_key=True)\n",
    "    name = Column( String(200), nullable=False)\n",
    "    timestamp = Column(DateTime, default=datetime.datetime.now)\n",
    "\n",
    "Base.metadata.create_all(engine)"
   ],
   "metadata": {
    "collapsed": false,
    "pycharm": {
     "name": "#%%\n"
    }
   }
  },
  {
   "cell_type": "code",
   "execution_count": null,
   "outputs": [],
   "source": [
    "from sqlalchemy.orm import mapper\n",
    "\n",
    "class MyMapperTable(object):\n",
    "    pass\n",
    "\n",
    "mapper(MyMapperTable, table)"
   ],
   "metadata": {
    "collapsed": false,
    "pycharm": {
     "name": "#%%\n"
    }
   }
  },
  {
   "cell_type": "code",
   "execution_count": 29,
   "outputs": [
    {
     "name": "stdout",
     "output_type": "stream",
     "text": [
      "IdentitySet([<__main__.MySomeTable object at 0x7fddf12143d0>, <__main__.MySomeTable object at 0x7fddf12140a0>])\n",
      "2021-11-09 15:49:21,496 INFO sqlalchemy.engine.Engine BEGIN (implicit)\n",
      "2021-11-09 15:49:21,499 INFO sqlalchemy.engine.Engine INSERT INTO \"table\" (name, timestamp) VALUES (?, ?)\n",
      "2021-11-09 15:49:21,500 INFO sqlalchemy.engine.Engine [generated in 0.00122s] ('SOMENAME', '2021-11-09 15:49:21.499356')\n",
      "2021-11-09 15:49:21,503 INFO sqlalchemy.engine.Engine INSERT INTO \"table\" (name, timestamp) VALUES (?, ?)\n",
      "2021-11-09 15:49:21,504 INFO sqlalchemy.engine.Engine [cached since 0.005681s ago] ('ANOTHERNAME', '2021-11-09 15:49:21.502975')\n",
      "2021-11-09 15:49:21,506 INFO sqlalchemy.engine.Engine COMMIT\n"
     ]
    }
   ],
   "source": [
    "from sqlalchemy.orm import Session\n",
    "session = Session(bind=engine)\n",
    "\n",
    "data1 = MySomeTable(name=\"SOMENAME\")\n",
    "data2 = MySomeTable(name=\"ANOTHERNAME\")\n",
    "\n",
    "session.add(data1)\n",
    "session.add(data2)\n",
    "print(session.new)\n",
    "session.commit()"
   ],
   "metadata": {
    "collapsed": false,
    "pycharm": {
     "name": "#%%\n"
    }
   }
  },
  {
   "cell_type": "code",
   "execution_count": null,
   "outputs": [],
   "source": [],
   "metadata": {
    "collapsed": false,
    "pycharm": {
     "name": "#%%\n"
    }
   }
  },
  {
   "cell_type": "code",
   "execution_count": null,
   "outputs": [],
   "source": [],
   "metadata": {
    "collapsed": false,
    "pycharm": {
     "name": "#%%\n"
    }
   }
  },
  {
   "cell_type": "code",
   "execution_count": null,
   "outputs": [],
   "source": [],
   "metadata": {
    "collapsed": false,
    "pycharm": {
     "name": "#%%\n"
    }
   }
  },
  {
   "cell_type": "code",
   "execution_count": null,
   "outputs": [],
   "source": [],
   "metadata": {
    "collapsed": false,
    "pycharm": {
     "name": "#%%\n"
    }
   }
  },
  {
   "cell_type": "code",
   "execution_count": null,
   "outputs": [],
   "source": [],
   "metadata": {
    "collapsed": false,
    "pycharm": {
     "name": "#%%\n"
    }
   }
  },
  {
   "cell_type": "code",
   "execution_count": null,
   "outputs": [],
   "source": [],
   "metadata": {
    "collapsed": false,
    "pycharm": {
     "name": "#%%\n"
    }
   }
  },
  {
   "cell_type": "code",
   "execution_count": null,
   "outputs": [],
   "source": [],
   "metadata": {
    "collapsed": false,
    "pycharm": {
     "name": "#%%\n"
    }
   }
  },
  {
   "cell_type": "code",
   "execution_count": null,
   "outputs": [],
   "source": [],
   "metadata": {
    "collapsed": false,
    "pycharm": {
     "name": "#%%\n"
    }
   }
  },
  {
   "cell_type": "code",
   "execution_count": null,
   "outputs": [],
   "source": [],
   "metadata": {
    "collapsed": false,
    "pycharm": {
     "name": "#%%\n"
    }
   }
  },
  {
   "cell_type": "code",
   "execution_count": null,
   "outputs": [],
   "source": [],
   "metadata": {
    "collapsed": false,
    "pycharm": {
     "name": "#%%\n"
    }
   }
  },
  {
   "cell_type": "code",
   "execution_count": null,
   "outputs": [],
   "source": [],
   "metadata": {
    "collapsed": false,
    "pycharm": {
     "name": "#%%\n"
    }
   }
  },
  {
   "cell_type": "code",
   "execution_count": null,
   "outputs": [],
   "source": [],
   "metadata": {
    "collapsed": false,
    "pycharm": {
     "name": "#%%\n"
    }
   }
  },
  {
   "cell_type": "code",
   "execution_count": null,
   "outputs": [],
   "source": [],
   "metadata": {
    "collapsed": false,
    "pycharm": {
     "name": "#%%\n"
    }
   }
  },
  {
   "cell_type": "code",
   "execution_count": null,
   "outputs": [],
   "source": [],
   "metadata": {
    "collapsed": false,
    "pycharm": {
     "name": "#%%\n"
    }
   }
  },
  {
   "cell_type": "code",
   "execution_count": null,
   "outputs": [],
   "source": [],
   "metadata": {
    "collapsed": false,
    "pycharm": {
     "name": "#%%\n"
    }
   }
  },
  {
   "cell_type": "code",
   "execution_count": null,
   "outputs": [],
   "source": [],
   "metadata": {
    "collapsed": false,
    "pycharm": {
     "name": "#%%\n"
    }
   }
  },
  {
   "cell_type": "code",
   "execution_count": null,
   "outputs": [],
   "source": [],
   "metadata": {
    "collapsed": false,
    "pycharm": {
     "name": "#%%\n"
    }
   }
  },
  {
   "cell_type": "code",
   "execution_count": null,
   "outputs": [],
   "source": [],
   "metadata": {
    "collapsed": false,
    "pycharm": {
     "name": "#%%\n"
    }
   }
  },
  {
   "cell_type": "code",
   "execution_count": null,
   "outputs": [],
   "source": [],
   "metadata": {
    "collapsed": false,
    "pycharm": {
     "name": "#%%\n"
    }
   }
  },
  {
   "cell_type": "code",
   "execution_count": null,
   "outputs": [],
   "source": [],
   "metadata": {
    "collapsed": false,
    "pycharm": {
     "name": "#%%\n"
    }
   }
  },
  {
   "cell_type": "code",
   "execution_count": null,
   "outputs": [],
   "source": [],
   "metadata": {
    "collapsed": false,
    "pycharm": {
     "name": "#%%\n"
    }
   }
  },
  {
   "cell_type": "code",
   "execution_count": null,
   "outputs": [],
   "source": [],
   "metadata": {
    "collapsed": false,
    "pycharm": {
     "name": "#%%\n"
    }
   }
  },
  {
   "cell_type": "code",
   "execution_count": null,
   "outputs": [],
   "source": [],
   "metadata": {
    "collapsed": false,
    "pycharm": {
     "name": "#%%\n"
    }
   }
  },
  {
   "cell_type": "code",
   "execution_count": null,
   "outputs": [],
   "source": [],
   "metadata": {
    "collapsed": false,
    "pycharm": {
     "name": "#%%\n"
    }
   }
  },
  {
   "cell_type": "code",
   "execution_count": null,
   "outputs": [],
   "source": [],
   "metadata": {
    "collapsed": false,
    "pycharm": {
     "name": "#%%\n"
    }
   }
  },
  {
   "cell_type": "code",
   "execution_count": null,
   "outputs": [],
   "source": [],
   "metadata": {
    "collapsed": false,
    "pycharm": {
     "name": "#%%\n"
    }
   }
  },
  {
   "cell_type": "code",
   "execution_count": null,
   "outputs": [],
   "source": [],
   "metadata": {
    "collapsed": false,
    "pycharm": {
     "name": "#%%\n"
    }
   }
  },
  {
   "cell_type": "code",
   "execution_count": null,
   "outputs": [],
   "source": [],
   "metadata": {
    "collapsed": false,
    "pycharm": {
     "name": "#%%\n"
    }
   }
  },
  {
   "cell_type": "code",
   "execution_count": null,
   "outputs": [],
   "source": [],
   "metadata": {
    "collapsed": false,
    "pycharm": {
     "name": "#%%\n"
    }
   }
  },
  {
   "cell_type": "code",
   "execution_count": null,
   "outputs": [],
   "source": [],
   "metadata": {
    "collapsed": false,
    "pycharm": {
     "name": "#%%\n"
    }
   }
  },
  {
   "cell_type": "code",
   "execution_count": null,
   "outputs": [],
   "source": [],
   "metadata": {
    "collapsed": false,
    "pycharm": {
     "name": "#%%\n"
    }
   }
  },
  {
   "cell_type": "code",
   "execution_count": null,
   "outputs": [],
   "source": [],
   "metadata": {
    "collapsed": false,
    "pycharm": {
     "name": "#%%\n"
    }
   }
  },
  {
   "cell_type": "code",
   "execution_count": null,
   "outputs": [],
   "source": [],
   "metadata": {
    "collapsed": false,
    "pycharm": {
     "name": "#%%\n"
    }
   }
  },
  {
   "cell_type": "code",
   "execution_count": null,
   "outputs": [],
   "source": [],
   "metadata": {
    "collapsed": false,
    "pycharm": {
     "name": "#%%\n"
    }
   }
  }
 ],
 "metadata": {
  "kernelspec": {
   "display_name": "Python 3",
   "language": "python",
   "name": "python3"
  },
  "language_info": {
   "codemirror_mode": {
    "name": "ipython",
    "version": 3
   },
   "file_extension": ".py",
   "mimetype": "text/x-python",
   "name": "python",
   "nbconvert_exporter": "python",
   "pygments_lexer": "ipython3",
   "version": "3.6.5"
  }
 },
 "nbformat": 4,
 "nbformat_minor": 2
}