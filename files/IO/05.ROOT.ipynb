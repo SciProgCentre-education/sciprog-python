{
 "cells": [
  {
   "cell_type": "code",
   "execution_count": 4,
   "metadata": {
    "collapsed": true
   },
   "outputs": [
    {
     "ename": "ModuleNotFoundError",
     "evalue": "No module named 'ROOT'",
     "output_type": "error",
     "traceback": [
      "\u001B[0;31m---------------------------------------------------------------------------\u001B[0m",
      "\u001B[0;31mModuleNotFoundError\u001B[0m                       Traceback (most recent call last)",
      "\u001B[0;32m/tmp/ipykernel_132210/2510242022.py\u001B[0m in \u001B[0;36m<module>\u001B[0;34m\u001B[0m\n\u001B[0;32m----> 1\u001B[0;31m \u001B[0;32mimport\u001B[0m \u001B[0mROOT\u001B[0m\u001B[0;34m\u001B[0m\u001B[0;34m\u001B[0m\u001B[0m\n\u001B[0m\u001B[1;32m      2\u001B[0m \u001B[0;34m\u001B[0m\u001B[0m\n\u001B[1;32m      3\u001B[0m \u001B[0;34m\u001B[0m\u001B[0m\n",
      "\u001B[0;31mModuleNotFoundError\u001B[0m: No module named 'ROOT'"
     ]
    }
   ],
   "source": [
    "import ROOT\n"
   ]
  },
  {
   "cell_type": "code",
   "execution_count": 5,
   "outputs": [
    {
     "ename": "NameError",
     "evalue": "name 'ROOT' is not defined",
     "output_type": "error",
     "traceback": [
      "\u001B[0;31m---------------------------------------------------------------------------\u001B[0m",
      "\u001B[0;31mNameError\u001B[0m                                 Traceback (most recent call last)",
      "\u001B[0;32m/tmp/ipykernel_132210/3701297007.py\u001B[0m in \u001B[0;36m<module>\u001B[0;34m\u001B[0m\n\u001B[0;32m----> 1\u001B[0;31m \u001B[0mh\u001B[0m \u001B[0;34m=\u001B[0m \u001B[0mROOT\u001B[0m\u001B[0;34m.\u001B[0m\u001B[0mTH1F\u001B[0m\u001B[0;34m(\u001B[0m\u001B[0;34m\"myHist\"\u001B[0m\u001B[0;34m,\u001B[0m \u001B[0;34m\"myTitle\"\u001B[0m\u001B[0;34m,\u001B[0m \u001B[0;36m64\u001B[0m\u001B[0;34m,\u001B[0m \u001B[0;34m-\u001B[0m\u001B[0;36m4\u001B[0m\u001B[0;34m,\u001B[0m \u001B[0;36m4\u001B[0m\u001B[0;34m)\u001B[0m\u001B[0;34m\u001B[0m\u001B[0;34m\u001B[0m\u001B[0m\n\u001B[0m\u001B[1;32m      2\u001B[0m \u001B[0mh\u001B[0m\u001B[0;34m.\u001B[0m\u001B[0mFillRandom\u001B[0m\u001B[0;34m(\u001B[0m\u001B[0;34m\"gaus\"\u001B[0m\u001B[0;34m)\u001B[0m\u001B[0;34m\u001B[0m\u001B[0;34m\u001B[0m\u001B[0m\n\u001B[1;32m      3\u001B[0m \u001B[0;34m\u001B[0m\u001B[0m\n\u001B[1;32m      4\u001B[0m \u001B[0;34m\u001B[0m\u001B[0m\n",
      "\u001B[0;31mNameError\u001B[0m: name 'ROOT' is not defined"
     ]
    }
   ],
   "source": [
    "h = ROOT.TH1F(\"myHist\", \"myTitle\", 64, -4, 4)\n",
    "h.FillRandom(\"gaus\")\n"
   ],
   "metadata": {
    "collapsed": false,
    "pycharm": {
     "name": "#%%\n"
    }
   }
  },
  {
   "cell_type": "code",
   "execution_count": 6,
   "outputs": [
    {
     "ename": "NameError",
     "evalue": "name 'h' is not defined",
     "output_type": "error",
     "traceback": [
      "\u001B[0;31m---------------------------------------------------------------------------\u001B[0m",
      "\u001B[0;31mNameError\u001B[0m                                 Traceback (most recent call last)",
      "\u001B[0;32m/tmp/ipykernel_132210/882497127.py\u001B[0m in \u001B[0;36m<module>\u001B[0;34m\u001B[0m\n\u001B[0;32m----> 1\u001B[0;31m \u001B[0mdir\u001B[0m\u001B[0;34m(\u001B[0m\u001B[0mh\u001B[0m\u001B[0;34m)\u001B[0m\u001B[0;34m\u001B[0m\u001B[0;34m\u001B[0m\u001B[0m\n\u001B[0m",
      "\u001B[0;31mNameError\u001B[0m: name 'h' is not defined"
     ]
    }
   ],
   "source": [
    "h.SaveAs(\"gaus.root\")"
   ],
   "metadata": {
    "collapsed": false,
    "pycharm": {
     "name": "#%%\n"
    }
   }
  },
  {
   "cell_type": "code",
   "execution_count": 8,
   "outputs": [
    {
     "name": "stdout",
     "output_type": "stream",
     "text": [
      "Requirement already satisfied: uproot in /home/zelenyy/miniconda3/envs/sciprog/lib/python3.9/site-packages (4.1.8)\r\n",
      "Collecting awkward\r\n",
      "  Downloading awkward-1.5.1-cp39-cp39-manylinux2010_x86_64.whl (14.1 MB)\r\n",
      "\u001B[K     |████████████████████████████████| 14.1 MB 587 kB/s eta 0:00:01\r\n",
      "\u001B[?25hRequirement already satisfied: setuptools in /home/zelenyy/miniconda3/envs/sciprog/lib/python3.9/site-packages (from uproot) (58.0.4)\r\n",
      "Requirement already satisfied: numpy in /home/zelenyy/miniconda3/envs/sciprog/lib/python3.9/site-packages (from uproot) (1.20.3)\r\n",
      "Installing collected packages: awkward\r\n",
      "Successfully installed awkward-1.5.1\r\n"
     ]
    }
   ],
   "source": [
    "!pip install uproot awkward"
   ],
   "metadata": {
    "collapsed": false,
    "pycharm": {
     "name": "#%%\n"
    }
   }
  },
  {
   "cell_type": "code",
   "execution_count": 9,
   "outputs": [],
   "source": [
    "import uproot\n",
    "file = uproot.open(\"gaus.root\")\n",
    "\n",
    "\n"
   ],
   "metadata": {
    "collapsed": false,
    "pycharm": {
     "name": "#%%\n"
    }
   }
  },
  {
   "cell_type": "code",
   "execution_count": 10,
   "outputs": [
    {
     "data": {
      "text/plain": "['myHist;1']"
     },
     "execution_count": 10,
     "metadata": {},
     "output_type": "execute_result"
    }
   ],
   "source": [
    "file.keys()"
   ],
   "metadata": {
    "collapsed": false,
    "pycharm": {
     "name": "#%%\n"
    }
   }
  },
  {
   "cell_type": "code",
   "execution_count": 12,
   "outputs": [],
   "source": [
    "my_hist = file[\"myHist;1\"]"
   ],
   "metadata": {
    "collapsed": false,
    "pycharm": {
     "name": "#%%\n"
    }
   }
  },
  {
   "cell_type": "code",
   "execution_count": 15,
   "outputs": [
    {
     "data": {
      "text/plain": "{'@fUniqueID': 0,\n '@fBits': 50331656,\n 'fName': 'myHist',\n 'fTitle': 'myTitle',\n 'fLineColor': 602,\n 'fLineStyle': 1,\n 'fLineWidth': 1,\n 'fFillColor': 0,\n 'fFillStyle': 1001,\n 'fMarkerColor': 1,\n 'fMarkerStyle': 1,\n 'fMarkerSize': 1.0,\n 'fNcells': 66,\n 'fXaxis': <TAxis (version 10) at 0x7fb0d44491c0>,\n 'fYaxis': <TAxis (version 10) at 0x7fb0d4449490>,\n 'fZaxis': <TAxis (version 10) at 0x7fb0d4449a30>,\n 'fBarOffset': 0,\n 'fBarWidth': 1000,\n 'fEntries': 5000.0,\n 'fTsumw': 5000.0,\n 'fTsumw2': 5000.0,\n 'fTsumwx': 40.76238081670063,\n 'fTsumwx2': 5159.101210484754,\n 'fMaximum': -1111.0,\n 'fMinimum': -1111.0,\n 'fNormFactor': 0.0,\n 'fContour': <TArrayD [] at 0x7fb0d4449ca0>,\n 'fSumw2': <TArrayD [] at 0x7fb0d4449cd0>,\n 'fOption': <TString '' at 0x7fb0d42edeb0>,\n 'fFunctions': <TList of 0 items at 0x7fb0d4449e80>,\n 'fBufferSize': 0,\n 'fBuffer': array([], dtype=float64),\n 'fBinStatErrOpt': 0,\n 'fStatOverflows': 2,\n 'fN': 66}"
     },
     "execution_count": 15,
     "metadata": {},
     "output_type": "execute_result"
    }
   ],
   "source": [
    "my_hist.all_members"
   ],
   "metadata": {
    "collapsed": false,
    "pycharm": {
     "name": "#%%\n"
    }
   }
  },
  {
   "cell_type": "code",
   "execution_count": 16,
   "outputs": [
    {
     "data": {
      "text/plain": "array([  2.,   0.,   0.,   0.,   1.,   0.,   1.,   5.,   3.,   9.,   9.,\n         4.,  11.,  16.,  22.,  34.,  43.,  41.,  57.,  72.,  94., 101.,\n       134., 145., 163., 169., 187., 208., 229., 251., 233., 252., 227.,\n       261., 239., 227., 180., 198., 190., 160., 161., 117.,  96.,  81.,\n        93.,  56.,  57.,  33.,  30.,  27.,  21.,  14.,  12.,   8.,   5.,\n         5.,   1.,   0.,   0.,   3.,   0.,   1.,   1.,   0.],\n      dtype=float32)"
     },
     "execution_count": 16,
     "metadata": {},
     "output_type": "execute_result"
    }
   ],
   "source": [
    "my_hist.values()"
   ],
   "metadata": {
    "collapsed": false,
    "pycharm": {
     "name": "#%%\n"
    }
   }
  },
  {
   "cell_type": "code",
   "execution_count": null,
   "outputs": [],
   "source": [],
   "metadata": {
    "collapsed": false,
    "pycharm": {
     "name": "#%%\n"
    }
   }
  }
 ],
 "metadata": {
  "kernelspec": {
   "display_name": "Python 3",
   "language": "python",
   "name": "python3"
  },
  "language_info": {
   "codemirror_mode": {
    "name": "ipython",
    "version": 2
   },
   "file_extension": ".py",
   "mimetype": "text/x-python",
   "name": "python",
   "nbconvert_exporter": "python",
   "pygments_lexer": "ipython2",
   "version": "2.7.6"
  }
 },
 "nbformat": 4,
 "nbformat_minor": 0
}