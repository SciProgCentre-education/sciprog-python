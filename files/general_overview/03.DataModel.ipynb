{
 "cells": [
  {
   "cell_type": "markdown",
   "id": "917bfefc-582c-41b4-b3b2-df29da3c7200",
   "metadata": {},
   "source": [
    "# Всё в Python является объектом"
   ]
  },
  {
   "cell_type": "code",
   "execution_count": 1,
   "id": "b7025d1e-79cf-4ba7-a49d-7c1bf2fe063e",
   "metadata": {},
   "outputs": [],
   "source": [
    "class Vector2D:\n",
    "    x = 0\n",
    "    y = 0\n",
    "    \n",
    "    def norm(self):\n",
    "        return (self.x**2 + self.y**2)**0.5"
   ]
  },
  {
   "cell_type": "code",
   "execution_count": 2,
   "id": "47a62aa2-42c0-41c3-8f4b-ca7d75903cd6",
   "metadata": {},
   "outputs": [],
   "source": [
    "vec = Vector2D()"
   ]
  },
  {
   "cell_type": "code",
   "execution_count": 3,
   "id": "ed078e26-389f-4514-89b0-7938c6a07389",
   "metadata": {},
   "outputs": [
    {
     "data": {
      "text/plain": [
       "True"
      ]
     },
     "execution_count": 3,
     "metadata": {},
     "output_type": "execute_result"
    }
   ],
   "source": [
    "isinstance(object, object)"
   ]
  },
  {
   "cell_type": "code",
   "execution_count": 4,
   "id": "3371dfc5-234d-481c-8404-f1fd0fd68bb3",
   "metadata": {},
   "outputs": [
    {
     "data": {
      "text/plain": [
       "True"
      ]
     },
     "execution_count": 4,
     "metadata": {},
     "output_type": "execute_result"
    }
   ],
   "source": [
    "isinstance(vec, object)"
   ]
  },
  {
   "cell_type": "code",
   "execution_count": 5,
   "id": "88ccb376-5fbb-47ed-84b5-4773f26d3490",
   "metadata": {},
   "outputs": [
    {
     "data": {
      "text/plain": [
       "True"
      ]
     },
     "execution_count": 5,
     "metadata": {},
     "output_type": "execute_result"
    }
   ],
   "source": [
    "isinstance(Vector2D, object)"
   ]
  },
  {
   "cell_type": "code",
   "execution_count": 6,
   "id": "d4e0bb29-320c-4206-8fc3-4345eda4f73f",
   "metadata": {},
   "outputs": [],
   "source": [
    "import math"
   ]
  },
  {
   "cell_type": "code",
   "execution_count": 7,
   "id": "d14aa22d-7fc2-4572-987a-9567787501a8",
   "metadata": {},
   "outputs": [
    {
     "data": {
      "text/plain": [
       "True"
      ]
     },
     "execution_count": 7,
     "metadata": {},
     "output_type": "execute_result"
    }
   ],
   "source": [
    "isinstance(math, object)"
   ]
  },
  {
   "cell_type": "code",
   "execution_count": 8,
   "id": "374f4bc2-7bb6-441d-96aa-392445856565",
   "metadata": {},
   "outputs": [],
   "source": [
    "def add(a,b): return a + b"
   ]
  },
  {
   "cell_type": "code",
   "execution_count": 9,
   "id": "0b0b8d31-917e-4fb0-8d41-3e49cc381494",
   "metadata": {},
   "outputs": [
    {
     "data": {
      "text/plain": [
       "True"
      ]
     },
     "execution_count": 9,
     "metadata": {},
     "output_type": "execute_result"
    }
   ],
   "source": [
    "isinstance(add, object)"
   ]
  },
  {
   "cell_type": "code",
   "execution_count": 10,
   "id": "2823a21c-5e74-4f15-9453-0e0f3e200e6f",
   "metadata": {},
   "outputs": [
    {
     "data": {
      "text/plain": [
       "True"
      ]
     },
     "execution_count": 10,
     "metadata": {},
     "output_type": "execute_result"
    }
   ],
   "source": [
    "isinstance(\"add\", object)"
   ]
  },
  {
   "cell_type": "code",
   "execution_count": 11,
   "id": "f0cac210-b14c-4940-811f-2f7b982014f5",
   "metadata": {},
   "outputs": [
    {
     "data": {
      "text/plain": [
       "['__class__',\n",
       " '__delattr__',\n",
       " '__dict__',\n",
       " '__dir__',\n",
       " '__doc__',\n",
       " '__eq__',\n",
       " '__format__',\n",
       " '__ge__',\n",
       " '__getattribute__',\n",
       " '__gt__',\n",
       " '__hash__',\n",
       " '__init__',\n",
       " '__init_subclass__',\n",
       " '__le__',\n",
       " '__lt__',\n",
       " '__module__',\n",
       " '__ne__',\n",
       " '__new__',\n",
       " '__reduce__',\n",
       " '__reduce_ex__',\n",
       " '__repr__',\n",
       " '__setattr__',\n",
       " '__sizeof__',\n",
       " '__str__',\n",
       " '__subclasshook__',\n",
       " '__weakref__',\n",
       " 'norm',\n",
       " 'x',\n",
       " 'y']"
      ]
     },
     "execution_count": 11,
     "metadata": {},
     "output_type": "execute_result"
    }
   ],
   "source": [
    "dir(vec)"
   ]
  },
  {
   "cell_type": "code",
   "execution_count": 18,
   "id": "1b5597dc-484a-43d3-b37a-cd30908d495d",
   "metadata": {},
   "outputs": [
    {
     "data": {
      "text/plain": [
       "['__annotations__',\n",
       " '__call__',\n",
       " '__class__',\n",
       " '__closure__',\n",
       " '__code__',\n",
       " '__defaults__',\n",
       " '__delattr__',\n",
       " '__dict__',\n",
       " '__dir__',\n",
       " '__doc__',\n",
       " '__eq__',\n",
       " '__format__',\n",
       " '__ge__',\n",
       " '__get__',\n",
       " '__getattribute__',\n",
       " '__globals__',\n",
       " '__gt__',\n",
       " '__hash__',\n",
       " '__init__',\n",
       " '__init_subclass__',\n",
       " '__kwdefaults__',\n",
       " '__le__',\n",
       " '__lt__',\n",
       " '__module__',\n",
       " '__name__',\n",
       " '__ne__',\n",
       " '__new__',\n",
       " '__qualname__',\n",
       " '__reduce__',\n",
       " '__reduce_ex__',\n",
       " '__repr__',\n",
       " '__setattr__',\n",
       " '__sizeof__',\n",
       " '__str__',\n",
       " '__subclasshook__']"
      ]
     },
     "execution_count": 18,
     "metadata": {},
     "output_type": "execute_result"
    }
   ],
   "source": [
    "dir(add)"
   ]
  },
  {
   "cell_type": "code",
   "execution_count": null,
   "id": "0d836970-eef0-45bd-b604-056edf050255",
   "metadata": {},
   "outputs": [],
   "source": []
  }
 ],
 "metadata": {
  "kernelspec": {
   "display_name": "Python 3 (ipykernel)",
   "language": "python",
   "name": "python3"
  },
  "language_info": {
   "codemirror_mode": {
    "name": "ipython",
    "version": 3
   },
   "file_extension": ".py",
   "mimetype": "text/x-python",
   "name": "python",
   "nbconvert_exporter": "python",
   "pygments_lexer": "ipython3",
   "version": "3.9.6"
  }
 },
 "nbformat": 4,
 "nbformat_minor": 5
}
