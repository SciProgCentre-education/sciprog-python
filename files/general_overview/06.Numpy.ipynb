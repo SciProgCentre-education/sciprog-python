{
 "cells": [
  {
   "cell_type": "code",
   "execution_count": 1,
   "metadata": {
    "collapsed": true
   },
   "outputs": [],
   "source": [
    "import numpy as np"
   ]
  },
  {
   "cell_type": "code",
   "execution_count": 2,
   "outputs": [
    {
     "name": "stdout",
     "output_type": "stream",
     "text": [
      "Help on ufunc:\n",
      "\n",
      "sin = <ufunc 'sin'>\n",
      "    sin(x, /, out=None, *, where=True, casting='same_kind', order='K', dtype=None, subok=True[, signature, extobj])\n",
      "    \n",
      "    Trigonometric sine, element-wise.\n",
      "    \n",
      "    Parameters\n",
      "    ----------\n",
      "    x : array_like\n",
      "        Angle, in radians (:math:`2 \\pi` rad equals 360 degrees).\n",
      "    out : ndarray, None, or tuple of ndarray and None, optional\n",
      "        A location into which the result is stored. If provided, it must have\n",
      "        a shape that the inputs broadcast to. If not provided or None,\n",
      "        a freshly-allocated array is returned. A tuple (possible only as a\n",
      "        keyword argument) must have length equal to the number of outputs.\n",
      "    where : array_like, optional\n",
      "        This condition is broadcast over the input. At locations where the\n",
      "        condition is True, the `out` array will be set to the ufunc result.\n",
      "        Elsewhere, the `out` array will retain its original value.\n",
      "        Note that if an uninitialized `out` array is created via the default\n",
      "        ``out=None``, locations within it where the condition is False will\n",
      "        remain uninitialized.\n",
      "    **kwargs\n",
      "        For other keyword-only arguments, see the\n",
      "        :ref:`ufunc docs <ufuncs.kwargs>`.\n",
      "    \n",
      "    Returns\n",
      "    -------\n",
      "    y : array_like\n",
      "        The sine of each element of x.\n",
      "        This is a scalar if `x` is a scalar.\n",
      "    \n",
      "    See Also\n",
      "    --------\n",
      "    arcsin, sinh, cos\n",
      "    \n",
      "    Notes\n",
      "    -----\n",
      "    The sine is one of the fundamental functions of trigonometry (the\n",
      "    mathematical study of triangles).  Consider a circle of radius 1\n",
      "    centered on the origin.  A ray comes in from the :math:`+x` axis, makes\n",
      "    an angle at the origin (measured counter-clockwise from that axis), and\n",
      "    departs from the origin.  The :math:`y` coordinate of the outgoing\n",
      "    ray's intersection with the unit circle is the sine of that angle.  It\n",
      "    ranges from -1 for :math:`x=3\\pi / 2` to +1 for :math:`\\pi / 2.`  The\n",
      "    function has zeroes where the angle is a multiple of :math:`\\pi`.\n",
      "    Sines of angles between :math:`\\pi` and :math:`2\\pi` are negative.\n",
      "    The numerous properties of the sine and related functions are included\n",
      "    in any standard trigonometry text.\n",
      "    \n",
      "    Examples\n",
      "    --------\n",
      "    Print sine of one angle:\n",
      "    \n",
      "    >>> np.sin(np.pi/2.)\n",
      "    1.0\n",
      "    \n",
      "    Print sines of an array of angles given in degrees:\n",
      "    \n",
      "    >>> np.sin(np.array((0., 30., 45., 60., 90.)) * np.pi / 180. )\n",
      "    array([ 0.        ,  0.5       ,  0.70710678,  0.8660254 ,  1.        ])\n",
      "    \n",
      "    Plot the sine function:\n",
      "    \n",
      "    >>> import matplotlib.pylab as plt\n",
      "    >>> x = np.linspace(-np.pi, np.pi, 201)\n",
      "    >>> plt.plot(x, np.sin(x))\n",
      "    >>> plt.xlabel('Angle [rad]')\n",
      "    >>> plt.ylabel('sin(x)')\n",
      "    >>> plt.axis('tight')\n",
      "    >>> plt.show()\n",
      "\n"
     ]
    }
   ],
   "source": [
    "help(np.sin)"
   ],
   "metadata": {
    "collapsed": false,
    "pycharm": {
     "name": "#%%\n"
    }
   }
  },
  {
   "cell_type": "code",
   "execution_count": 3,
   "outputs": [
    {
     "name": "stdout",
     "output_type": "stream",
     "text": [
      "sin(x, /, out=None, *, where=True, casting='same_kind', order='K', dtype=None, subok=True[, signature, extobj])\n",
      "\n",
      "Trigonometric sine, element-wise.\n",
      "\n",
      "Parameters\n",
      "----------\n",
      "x : array_like\n",
      "    Angle, in radians (:math:`2 \\pi` rad equals 360 degrees).\n",
      "out : ndarray, None, or tuple of ndarray and None, optional\n",
      "    A location into which the result is stored. If provided, it must have\n",
      "    a shape that the inputs broadcast to. If not provided or None,\n",
      "    a freshly-allocated array is returned. A tuple (possible only as a\n",
      "    keyword argument) must have length equal to the number of outputs.\n",
      "where : array_like, optional\n",
      "    This condition is broadcast over the input. At locations where the\n",
      "    condition is True, the `out` array will be set to the ufunc result.\n",
      "    Elsewhere, the `out` array will retain its original value.\n",
      "    Note that if an uninitialized `out` array is created via the default\n",
      "    ``out=None``, locations within it where the condition is False will\n",
      "    remain uninitialized.\n",
      "**kwargs\n",
      "    For other keyword-only arguments, see the\n",
      "    :ref:`ufunc docs <ufuncs.kwargs>`.\n",
      "\n",
      "Returns\n",
      "-------\n",
      "y : array_like\n",
      "    The sine of each element of x.\n",
      "    This is a scalar if `x` is a scalar.\n",
      "\n",
      "See Also\n",
      "--------\n",
      "arcsin, sinh, cos\n",
      "\n",
      "Notes\n",
      "-----\n",
      "The sine is one of the fundamental functions of trigonometry (the\n",
      "mathematical study of triangles).  Consider a circle of radius 1\n",
      "centered on the origin.  A ray comes in from the :math:`+x` axis, makes\n",
      "an angle at the origin (measured counter-clockwise from that axis), and\n",
      "departs from the origin.  The :math:`y` coordinate of the outgoing\n",
      "ray's intersection with the unit circle is the sine of that angle.  It\n",
      "ranges from -1 for :math:`x=3\\pi / 2` to +1 for :math:`\\pi / 2.`  The\n",
      "function has zeroes where the angle is a multiple of :math:`\\pi`.\n",
      "Sines of angles between :math:`\\pi` and :math:`2\\pi` are negative.\n",
      "The numerous properties of the sine and related functions are included\n",
      "in any standard trigonometry text.\n",
      "\n",
      "Examples\n",
      "--------\n",
      "Print sine of one angle:\n",
      "\n",
      ">>> np.sin(np.pi/2.)\n",
      "1.0\n",
      "\n",
      "Print sines of an array of angles given in degrees:\n",
      "\n",
      ">>> np.sin(np.array((0., 30., 45., 60., 90.)) * np.pi / 180. )\n",
      "array([ 0.        ,  0.5       ,  0.70710678,  0.8660254 ,  1.        ])\n",
      "\n",
      "Plot the sine function:\n",
      "\n",
      ">>> import matplotlib.pylab as plt\n",
      ">>> x = np.linspace(-np.pi, np.pi, 201)\n",
      ">>> plt.plot(x, np.sin(x))\n",
      ">>> plt.xlabel('Angle [rad]')\n",
      ">>> plt.ylabel('sin(x)')\n",
      ">>> plt.axis('tight')\n",
      ">>> plt.show()\n"
     ]
    }
   ],
   "source": [
    "np.info(np.sin)"
   ],
   "metadata": {
    "collapsed": false,
    "pycharm": {
     "name": "#%%\n"
    }
   }
  },
  {
   "cell_type": "code",
   "execution_count": 17,
   "outputs": [
    {
     "data": {
      "text/plain": "numpy.ufunc"
     },
     "execution_count": 17,
     "metadata": {},
     "output_type": "execute_result"
    }
   ],
   "source": [
    "type(np.sin)\n"
   ],
   "metadata": {
    "collapsed": false,
    "pycharm": {
     "name": "#%%\n"
    }
   }
  },
  {
   "cell_type": "code",
   "execution_count": 5,
   "outputs": [],
   "source": [
    "data = np.ones(10)\n",
    "\n"
   ],
   "metadata": {
    "collapsed": false,
    "pycharm": {
     "name": "#%%\n"
    }
   }
  },
  {
   "cell_type": "code",
   "execution_count": 8,
   "outputs": [],
   "source": [
    "data_2 = data[:, np.newaxis]"
   ],
   "metadata": {
    "collapsed": false,
    "pycharm": {
     "name": "#%%\n"
    }
   }
  },
  {
   "cell_type": "code",
   "execution_count": 9,
   "outputs": [
    {
     "data": {
      "text/plain": "(10, 1)"
     },
     "execution_count": 9,
     "metadata": {},
     "output_type": "execute_result"
    }
   ],
   "source": [
    "data_2.shape"
   ],
   "metadata": {
    "collapsed": false,
    "pycharm": {
     "name": "#%%\n"
    }
   }
  },
  {
   "cell_type": "code",
   "execution_count": 10,
   "outputs": [
    {
     "data": {
      "text/plain": "array([1., 1., 1., 1., 1., 1., 1., 1., 1., 1.])"
     },
     "execution_count": 10,
     "metadata": {},
     "output_type": "execute_result"
    }
   ],
   "source": [
    "data_2.ravel()\n"
   ],
   "metadata": {
    "collapsed": false,
    "pycharm": {
     "name": "#%%\n"
    }
   }
  },
  {
   "cell_type": "code",
   "execution_count": 13,
   "outputs": [],
   "source": [
    "data_2[5,0] =10"
   ],
   "metadata": {
    "collapsed": false,
    "pycharm": {
     "name": "#%%\n"
    }
   }
  },
  {
   "cell_type": "code",
   "execution_count": 15,
   "outputs": [
    {
     "name": "stderr",
     "output_type": "stream",
     "text": [
      "/tmp/ipykernel_225929/377745527.py:1: DeprecationWarning: `np.bool` is a deprecated alias for the builtin `bool`. To silence this warning, use `bool` by itself. Doing this will not modify any behavior and is safe. If you specifically wanted the numpy scalar type, use `np.bool_` here.\n",
      "Deprecated in NumPy 1.20; for more details and guidance: https://numpy.org/devdocs/release/1.20.0-notes.html#deprecations\n",
      "  data[np.ones(10, dtype=np.bool)]\n"
     ]
    },
    {
     "data": {
      "text/plain": "array([ 1.,  1.,  1.,  1.,  1., 10.,  1.,  1.,  1.,  1.])"
     },
     "execution_count": 15,
     "metadata": {},
     "output_type": "execute_result"
    }
   ],
   "source": [
    "data[np.ones(10, dtype=np.bool)]"
   ],
   "metadata": {
    "collapsed": false,
    "pycharm": {
     "name": "#%%\n"
    }
   }
  },
  {
   "cell_type": "code",
   "execution_count": 16,
   "outputs": [
    {
     "name": "stderr",
     "output_type": "stream",
     "text": [
      "/tmp/ipykernel_225929/1739956453.py:1: DeprecationWarning: `np.bool` is a deprecated alias for the builtin `bool`. To silence this warning, use `bool` by itself. Doing this will not modify any behavior and is safe. If you specifically wanted the numpy scalar type, use `np.bool_` here.\n",
      "Deprecated in NumPy 1.20; for more details and guidance: https://numpy.org/devdocs/release/1.20.0-notes.html#deprecations\n",
      "  data[np.zeros(10, dtype=np.bool)]\n"
     ]
    },
    {
     "data": {
      "text/plain": "array([], dtype=float64)"
     },
     "execution_count": 16,
     "metadata": {},
     "output_type": "execute_result"
    }
   ],
   "source": [
    "data[np.zeros(10, dtype=np.bool)]\n"
   ],
   "metadata": {
    "collapsed": false,
    "pycharm": {
     "name": "#%%\n"
    }
   }
  },
  {
   "cell_type": "code",
   "execution_count": 18,
   "outputs": [],
   "source": [
    "import math\n",
    "my_sin = np.vectorize(math.sin)\n"
   ],
   "metadata": {
    "collapsed": false,
    "pycharm": {
     "name": "#%%\n"
    }
   }
  },
  {
   "cell_type": "code",
   "execution_count": 19,
   "outputs": [
    {
     "data": {
      "text/plain": "array([0.84147098, 0.84147098, 0.84147098, 0.84147098, 0.84147098,\n       0.84147098, 0.84147098, 0.84147098, 0.84147098, 0.84147098])"
     },
     "execution_count": 19,
     "metadata": {},
     "output_type": "execute_result"
    }
   ],
   "source": [
    "my_sin(np.ones(10))"
   ],
   "metadata": {
    "collapsed": false,
    "pycharm": {
     "name": "#%%\n"
    }
   }
  },
  {
   "cell_type": "code",
   "execution_count": 20,
   "outputs": [
    {
     "ename": "IndexError",
     "evalue": "boolean index did not match indexed array along dimension 0; dimension is 10 but corresponding boolean dimension is 1",
     "output_type": "error",
     "traceback": [
      "\u001B[0;31m---------------------------------------------------------------------------\u001B[0m",
      "\u001B[0;31mIndexError\u001B[0m                                Traceback (most recent call last)",
      "\u001B[0;32m/tmp/ipykernel_225929/3836761248.py\u001B[0m in \u001B[0;36m<module>\u001B[0;34m\u001B[0m\n\u001B[0;32m----> 1\u001B[0;31m \u001B[0mdata\u001B[0m\u001B[0;34m[\u001B[0m\u001B[0mnp\u001B[0m\u001B[0;34m.\u001B[0m\u001B[0marange\u001B[0m\u001B[0;34m(\u001B[0m\u001B[0;36m0\u001B[0m\u001B[0;34m,\u001B[0m\u001B[0;36m2\u001B[0m\u001B[0;34m,\u001B[0m \u001B[0;36m10\u001B[0m\u001B[0;34m)\u001B[0m \u001B[0;34m>\u001B[0m \u001B[0;36m0.5\u001B[0m\u001B[0;34m]\u001B[0m\u001B[0;34m\u001B[0m\u001B[0;34m\u001B[0m\u001B[0m\n\u001B[0m\u001B[1;32m      2\u001B[0m \u001B[0;34m\u001B[0m\u001B[0m\n",
      "\u001B[0;31mIndexError\u001B[0m: boolean index did not match indexed array along dimension 0; dimension is 10 but corresponding boolean dimension is 1"
     ]
    }
   ],
   "source": [
    "data[np.logical_and(np.arange(0,2, 10) > 0.5, np.arange(0,2, 10) < 1.5) ]"
   ],
   "metadata": {
    "collapsed": false,
    "pycharm": {
     "name": "#%%\n"
    }
   }
  },
  {
   "cell_type": "code",
   "execution_count": null,
   "outputs": [],
   "source": [],
   "metadata": {
    "collapsed": false,
    "pycharm": {
     "name": "#%%\n"
    }
   }
  }
 ],
 "metadata": {
  "kernelspec": {
   "display_name": "Python 3",
   "language": "python",
   "name": "python3"
  },
  "language_info": {
   "codemirror_mode": {
    "name": "ipython",
    "version": 2
   },
   "file_extension": ".py",
   "mimetype": "text/x-python",
   "name": "python",
   "nbconvert_exporter": "python",
   "pygments_lexer": "ipython2",
   "version": "2.7.6"
  }
 },
 "nbformat": 4,
 "nbformat_minor": 0
}