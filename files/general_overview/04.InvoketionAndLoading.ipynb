{
 "cells": [
  {
   "cell_type": "markdown",
   "id": "63dc735e-fe25-4179-941e-596a62bdade8",
   "metadata": {},
   "source": [
    "* Порядок выполнения програмымы\n",
    "* Загрузка модулей"
   ]
  },
  {
   "cell_type": "code",
   "execution_count": null,
   "id": "30725c4d-1c50-4673-8d25-a3e304fc862a",
   "metadata": {},
   "outputs": [],
   "source": []
  }
 ],
 "metadata": {
  "kernelspec": {
   "display_name": "Python 3 (ipykernel)",
   "language": "python",
   "name": "python3"
  },
  "language_info": {
   "codemirror_mode": {
    "name": "ipython",
    "version": 3
   },
   "file_extension": ".py",
   "mimetype": "text/x-python",
   "name": "python",
   "nbconvert_exporter": "python",
   "pygments_lexer": "ipython3",
   "version": "3.9.6"
  }
 },
 "nbformat": 4,
 "nbformat_minor": 5
}
