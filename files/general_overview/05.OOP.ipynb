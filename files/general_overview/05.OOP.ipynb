{
 "cells": [
  {
   "cell_type": "markdown",
   "id": "220b7e38-9182-45b8-ab24-5f5f5183598c",
   "metadata": {
    "pycharm": {
     "name": "#%% md\n"
    }
   },
   "source": [
    "# Облагораживаем код\n",
    "\n",
    "Задача: Написать код кормления живтных и кормушки. Есть два вида животных Кот и Собака. Кормушка может быть в\n",
    "\n",
    "\n",
    "\n",
    "\n",
    "* abc\n",
    "* enum\n",
    "* typing\n",
    "* context\n",
    "* observable\n",
    "* factory\n",
    "\n",
    "\n",
    "\n"
   ]
  }
 ],
 "metadata": {
  "kernelspec": {
   "display_name": "Python 3 (ipykernel)",
   "language": "python",
   "name": "python3"
  },
  "language_info": {
   "codemirror_mode": {
    "name": "ipython",
    "version": 3
   },
   "file_extension": ".py",
   "mimetype": "text/x-python",
   "name": "python",
   "nbconvert_exporter": "python",
   "pygments_lexer": "ipython3",
   "version": "3.9.6"
  }
 },
 "nbformat": 4,
 "nbformat_minor": 5
}