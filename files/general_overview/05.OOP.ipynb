{
 "cells": [
  {
   "cell_type": "markdown",
   "id": "220b7e38-9182-45b8-ab24-5f5f5183598c",
   "metadata": {
    "pycharm": {
     "name": "#%% md\n"
    }
   },
   "source": [
    "# Облагораживаем код\n",
    "\n",
    "Задача: Написать код кормления живтных и кормушки. Есть два вида животных Кот и Собака. Кормушка может быть в открытом и закрытом положениях. Собака умеет открывать кормушку, а также может довольствоваться остатками. Кошка всегда требует фикисровнное количество пищи.\n",
    "\n",
    "\n",
    "\n",
    "\n",
    "* abc\n",
    "* enum\n",
    "* typing\n",
    "* context\n",
    "* observable\n",
    "* factory\n",
    "\n",
    "\n",
    "## Структурная типизация\n",
    "\n",
    "### Модуль `typing`\n",
    "\n",
    "### Протоколы\n",
    "\n",
    "### MyPy"
   ]
  },
  {
   "cell_type": "markdown",
   "source": [
    "## Декораторы\n",
    "\n",
    "* [Понимаем декораторы в Python'e, шаг за шагом. Шаг 1](https://habr.com/ru/post/141411/)\n",
    "* [Понимаем декораторы в Python'e, шаг за шагом. Шаг 2](https://habr.com/ru/post/141501/)\n",
    "* [Шаблон проектирования **Декоратор**](https://ru.wikipedia.org/wiki/%D0%94%D0%B5%D0%BA%D0%BE%D1%80%D0%B0%D1%82%D0%BE%D1%80_(%D1%88%D0%B0%D0%B1%D0%BB%D0%BE%D0%BD_%D0%BF%D1%80%D0%BE%D0%B5%D0%BA%D1%82%D0%B8%D1%80%D0%BE%D0%B2%D0%B0%D0%BD%D0%B8%D1%8F))"
   ],
   "metadata": {
    "collapsed": false,
    "pycharm": {
     "name": "#%% md\n"
    }
   }
  },
  {
   "cell_type": "code",
   "execution_count": 1,
   "outputs": [],
   "source": [
    "def my_shiny_new_decorator(a_function_to_decorate):\n",
    "\n",
    "    def the_wrapper_around_the_original_function():\n",
    "        print(\"Я - код, который отработает до вызова функции\")\n",
    "        a_function_to_decorate()\n",
    "        print(\"А я - код, срабатывающий после\")\n",
    "\n",
    "    return the_wrapper_around_the_original_function"
   ],
   "metadata": {
    "collapsed": false,
    "pycharm": {
     "name": "#%%\n"
    }
   }
  },
  {
   "cell_type": "code",
   "execution_count": 2,
   "outputs": [
    {
     "name": "stdout",
     "output_type": "stream",
     "text": [
      "Я простая одинокая функция, ты ведь не посмеешь меня изменять?..\n"
     ]
    }
   ],
   "source": [
    "def a_stand_alone_function():\n",
    "    print(\"Я простая одинокая функция, ты ведь не посмеешь меня изменять?..\")\n",
    "\n",
    "a_stand_alone_function()"
   ],
   "metadata": {
    "collapsed": false,
    "pycharm": {
     "name": "#%%\n"
    }
   }
  },
  {
   "cell_type": "code",
   "execution_count": 3,
   "outputs": [
    {
     "name": "stdout",
     "output_type": "stream",
     "text": [
      "Я - код, который отработает до вызова функции\n",
      "Я простая одинокая функция, ты ведь не посмеешь меня изменять?..\n",
      "А я - код, срабатывающий после\n"
     ]
    }
   ],
   "source": [
    "a_stand_alone_function_decorated = my_shiny_new_decorator(a_stand_alone_function)\n",
    "\n",
    "a_stand_alone_function_decorated()"
   ],
   "metadata": {
    "collapsed": false,
    "pycharm": {
     "name": "#%%\n"
    }
   }
  },
  {
   "cell_type": "code",
   "execution_count": null,
   "outputs": [],
   "source": [
    "@my_shiny_new_decorator\n",
    "def another_stand_alone_function():\n",
    "    print(\"Оставь меня в покое\")\n",
    "\n",
    "another_stand_alone_function()"
   ],
   "metadata": {
    "collapsed": false,
    "pycharm": {
     "name": "#%%\n"
    }
   }
  },
  {
   "cell_type": "markdown",
   "source": [
    "### Можно применять несколько декораторов, порядок применения важен"
   ],
   "metadata": {
    "collapsed": false,
    "pycharm": {
     "name": "#%% md\n"
    }
   }
  },
  {
   "cell_type": "code",
   "execution_count": 4,
   "outputs": [],
   "source": [
    "def bread(func):\n",
    "    def wrapper():\n",
    "        print(\"</------\\>\")\n",
    "        func()\n",
    "        print(\"<\\______/>\")\n",
    "    return wrapper\n",
    "\n",
    "def ingredients(func):\n",
    "    def wrapper():\n",
    "        print(\"#помидоры#\")\n",
    "        func()\n",
    "        print(\"~салат~\")\n",
    "    return wrapper"
   ],
   "metadata": {
    "collapsed": false,
    "pycharm": {
     "name": "#%%\n"
    }
   }
  },
  {
   "cell_type": "code",
   "execution_count": 7,
   "outputs": [
    {
     "name": "stdout",
     "output_type": "stream",
     "text": [
      "</------\\>\n",
      "#помидоры#\n",
      "--ветчина--\n",
      "~салат~\n",
      "<\\______/>\n"
     ]
    }
   ],
   "source": [
    "@bread\n",
    "@ingredients\n",
    "def sandwich(food=\"--ветчина--\"):\n",
    "    print(food)\n",
    "\n",
    "sandwich()"
   ],
   "metadata": {
    "collapsed": false,
    "pycharm": {
     "name": "#%%\n"
    }
   }
  },
  {
   "cell_type": "code",
   "execution_count": 8,
   "outputs": [
    {
     "name": "stdout",
     "output_type": "stream",
     "text": [
      "#помидоры#\n",
      "</------\\>\n",
      "--ветчина--\n",
      "<\\______/>\n",
      "~салат~\n"
     ]
    }
   ],
   "source": [
    "@ingredients\n",
    "@bread\n",
    "def sandwich(food=\"--ветчина--\"):\n",
    "    print(food)\n",
    "\n",
    "sandwich()"
   ],
   "metadata": {
    "collapsed": false,
    "pycharm": {
     "name": "#%%\n"
    }
   }
  },
  {
   "cell_type": "markdown",
   "source": [
    "### Передача («проброс») аргументов в декорируемую функцию"
   ],
   "metadata": {
    "collapsed": false,
    "pycharm": {
     "name": "#%% md\n"
    }
   }
  },
  {
   "cell_type": "code",
   "execution_count": 9,
   "outputs": [
    {
     "name": "stdout",
     "output_type": "stream",
     "text": [
      "Смотри, что я получил: Питер Венкман\n",
      "Меня зовут Питер Венкман\n"
     ]
    }
   ],
   "source": [
    "def a_decorator_passing_arguments(function_to_decorate):\n",
    "    def a_wrapper_accepting_arguments(arg1, arg2):\n",
    "        print(\"Смотри, что я получил:\", arg1, arg2)\n",
    "        function_to_decorate(arg1, arg2)\n",
    "    return a_wrapper_accepting_arguments\n",
    "\n",
    "@a_decorator_passing_arguments\n",
    "def print_full_name(first_name, last_name):\n",
    "    print(\"Меня зовут\", first_name, last_name)\n",
    "\n",
    "print_full_name(\"Питер\", \"Венкман\")"
   ],
   "metadata": {
    "collapsed": false,
    "pycharm": {
     "name": "#%%\n"
    }
   }
  },
  {
   "cell_type": "markdown",
   "source": [
    "### Декораторы методов"
   ],
   "metadata": {
    "collapsed": false,
    "pycharm": {
     "name": "#%% md\n"
    }
   }
  },
  {
   "cell_type": "code",
   "execution_count": 10,
   "outputs": [
    {
     "name": "stdout",
     "output_type": "stream",
     "text": [
      "30\n"
     ]
    }
   ],
   "source": [
    "def method_friendly_decorator(method_to_decorate):\n",
    "    def wrapper(self, feeder):\n",
    "        feeder.food -= 10\n",
    "        return method_to_decorate(self, feeder)\n",
    "    return wrapper\n",
    "\n",
    "\n",
    "class Feeder(object):\n",
    "\n",
    "    def __init__(self):\n",
    "        self.food = 60\n",
    "\n",
    "class Cat:\n",
    "    def __init__(self):\n",
    "        self.food_intake = 20\n",
    "\n",
    "    @method_friendly_decorator\n",
    "    def rob_feeder(self, feeder):\n",
    "        feeder.food -= self.food_intake\n",
    "\n",
    "feeder = Feeder()\n",
    "Cat().rob_feeder(feeder)\n",
    "print(feeder.food)"
   ],
   "metadata": {
    "collapsed": false,
    "pycharm": {
     "name": "#%%\n"
    }
   }
  },
  {
   "cell_type": "markdown",
   "source": [
    "### Фабрика декораторов"
   ],
   "metadata": {
    "collapsed": false,
    "pycharm": {
     "name": "#%% md\n"
    }
   }
  },
  {
   "cell_type": "code",
   "execution_count": 15,
   "outputs": [],
   "source": [
    "def decorator_maker():\n",
    "    print(\"Я создаю декораторы! Я буду вызван только раз: \"\n",
    "          \"когда ты попросишь меня создать тебе декоратор.\")\n",
    "\n",
    "    def my_decorator(func):\n",
    "        print(\"Я - декоратор! Я буду вызван только раз: в момент декорирования функции.\")\n",
    "\n",
    "        def wrapped():\n",
    "            print (\"Я - обёртка вокруг декорируемой функции. \"\n",
    "                  \"Я буду вызвана каждый раз когда ты вызываешь декорируемую функцию. \"\n",
    "                  \"Я возвращаю результат работы декорируемой функции.\")\n",
    "            return func()\n",
    "\n",
    "        print(\"Я возвращаю обёрнутую функцию.\")\n",
    "\n",
    "        return wrapped\n",
    "\n",
    "    print(\"Я возвращаю декоратор.\")\n",
    "    return my_decorator"
   ],
   "metadata": {
    "collapsed": false,
    "pycharm": {
     "name": "#%%\n"
    }
   }
  },
  {
   "cell_type": "code",
   "execution_count": 16,
   "outputs": [
    {
     "name": "stdout",
     "output_type": "stream",
     "text": [
      "Я создаю декораторы! Я буду вызван только раз: когда ты попросишь меня создать тебе декоратор.\n",
      "Я возвращаю декоратор.\n",
      "Я - декоратор! Я буду вызван только раз: в момент декорирования функции.\n",
      "Я возвращаю обёрнутую функцию.\n"
     ]
    }
   ],
   "source": [
    "@decorator_maker()\n",
    "def decorated_function():\n",
    "    print(\"Я - декорируемая функция.\")"
   ],
   "metadata": {
    "collapsed": false,
    "pycharm": {
     "name": "#%%\n"
    }
   }
  },
  {
   "cell_type": "code",
   "execution_count": 17,
   "outputs": [
    {
     "name": "stdout",
     "output_type": "stream",
     "text": [
      "Я - обёртка вокруг декорируемой функции. Я буду вызвана каждый раз когда ты вызываешь декорируемую функцию. Я возвращаю результат работы декорируемой функции.\n",
      "Я - декорируемая функция.\n"
     ]
    }
   ],
   "source": [
    "decorated_function()"
   ],
   "metadata": {
    "collapsed": false,
    "pycharm": {
     "name": "#%%\n"
    }
   }
  },
  {
   "cell_type": "code",
   "execution_count": 19,
   "outputs": [
    {
     "name": "stdout",
     "output_type": "stream",
     "text": [
      "Я создаю декораторы! И я получил следующие аргументы: Леонард Шелдон\n",
      "Я - декоратор. И ты всё же смог передать мне эти аргументы: Леонард Шелдон\n",
      "Я - обёртка вокруг декорируемой функции.\n",
      "И я имею доступ ко всем аргументам: \n",
      "\t- и декоратора: Леонард Шелдон\n",
      "\t- и функции: Раджеш Говард\n",
      "Теперь я могу передать нужные аргументы дальше\n",
      "Я - декорируемая функция и я знаю только о своих аргументах: Раджеш Говард\n"
     ]
    }
   ],
   "source": [
    "def decorator_maker_with_arguments(decorator_arg1, decorator_arg2):\n",
    "\n",
    "    print(\"Я создаю декораторы! И я получил следующие аргументы:\", decorator_arg1, decorator_arg2)\n",
    "\n",
    "    def my_decorator(func):\n",
    "        print(\"Я - декоратор. И ты всё же смог передать мне эти аргументы:\", decorator_arg1, decorator_arg2)\n",
    "\n",
    "        # Не перепутайте аргументы декораторов с аргументами функций!\n",
    "        def wrapped(function_arg1, function_arg2) :\n",
    "            print (\"Я - обёртка вокруг декорируемой функции.\\n\"\n",
    "                  \"И я имею доступ ко всем аргументам: \\n\"\n",
    "                  \"\\t- и декоратора: {0} {1}\\n\"\n",
    "                  \"\\t- и функции: {2} {3}\\n\"\n",
    "                  \"Теперь я могу передать нужные аргументы дальше\"\n",
    "                  .format(decorator_arg1, decorator_arg2,\n",
    "                          function_arg1, function_arg2))\n",
    "            return func(function_arg1, function_arg2)\n",
    "\n",
    "        return wrapped\n",
    "\n",
    "    return my_decorator\n",
    "\n",
    "@decorator_maker_with_arguments(\"Леонард\", \"Шелдон\")\n",
    "def decorated_function_with_arguments(function_arg1, function_arg2):\n",
    "    print (\"Я - декорируемая функция и я знаю только о своих аргументах: {0}\"\n",
    "           \" {1}\".format(function_arg1, function_arg2))\n",
    "\n",
    "decorated_function_with_arguments(\"Раджеш\", \"Говард\")"
   ],
   "metadata": {
    "collapsed": false,
    "pycharm": {
     "name": "#%%\n"
    }
   }
  },
  {
   "cell_type": "code",
   "execution_count": 22,
   "outputs": [
    {
     "ename": "AttributeError",
     "evalue": "module 'time' has no attribute 'clock'",
     "output_type": "error",
     "traceback": [
      "\u001B[0;31m---------------------------------------------------------------------------\u001B[0m",
      "\u001B[0;31mAttributeError\u001B[0m                            Traceback (most recent call last)",
      "\u001B[0;32m<ipython-input-22-ff5666afaf76>\u001B[0m in \u001B[0;36m<module>\u001B[0;34m\u001B[0m\n\u001B[1;32m     45\u001B[0m     \u001B[0;32mreturn\u001B[0m \u001B[0mstr\u001B[0m\u001B[0;34m(\u001B[0m\u001B[0mreversed\u001B[0m\u001B[0;34m(\u001B[0m\u001B[0mstring\u001B[0m\u001B[0;34m)\u001B[0m\u001B[0;34m)\u001B[0m\u001B[0;34m\u001B[0m\u001B[0;34m\u001B[0m\u001B[0m\n\u001B[1;32m     46\u001B[0m \u001B[0;34m\u001B[0m\u001B[0m\n\u001B[0;32m---> 47\u001B[0;31m \u001B[0mprint\u001B[0m\u001B[0;34m(\u001B[0m\u001B[0mreverse_string\u001B[0m\u001B[0;34m(\u001B[0m\u001B[0;34m\"А роза упала на лапу Азора\"\u001B[0m\u001B[0;34m)\u001B[0m\u001B[0;34m)\u001B[0m\u001B[0;34m\u001B[0m\u001B[0;34m\u001B[0m\u001B[0m\n\u001B[0m\u001B[1;32m     48\u001B[0m \u001B[0mprint\u001B[0m\u001B[0;34m(\u001B[0m\u001B[0mreverse_string\u001B[0m\u001B[0;34m(\u001B[0m\u001B[0;34m\"A man, a plan, a canoe, pasta, heros, rajahs, a coloratura, maps, snipe, percale, macaroni, a gag, a banana bag, a tan, a tag, a banana bag again (or a camel), a crepe, pins, Spam, a rut, a Rolo, cash, a jar, sore hats, a peon, a canal: Panama!\"\u001B[0m\u001B[0;34m)\u001B[0m\u001B[0;34m)\u001B[0m\u001B[0;34m\u001B[0m\u001B[0;34m\u001B[0m\u001B[0m\n\u001B[1;32m     49\u001B[0m \u001B[0;34m\u001B[0m\u001B[0m\n",
      "\u001B[0;32m<ipython-input-22-ff5666afaf76>\u001B[0m in \u001B[0;36mwrapper\u001B[0;34m(*args, **kwargs)\u001B[0m\n\u001B[1;32m      6\u001B[0m     \u001B[0;32mimport\u001B[0m \u001B[0mtime\u001B[0m\u001B[0;34m\u001B[0m\u001B[0;34m\u001B[0m\u001B[0m\n\u001B[1;32m      7\u001B[0m     \u001B[0;32mdef\u001B[0m \u001B[0mwrapper\u001B[0m\u001B[0;34m(\u001B[0m\u001B[0;34m*\u001B[0m\u001B[0margs\u001B[0m\u001B[0;34m,\u001B[0m \u001B[0;34m**\u001B[0m\u001B[0mkwargs\u001B[0m\u001B[0;34m)\u001B[0m\u001B[0;34m:\u001B[0m\u001B[0;34m\u001B[0m\u001B[0;34m\u001B[0m\u001B[0m\n\u001B[0;32m----> 8\u001B[0;31m         \u001B[0mt\u001B[0m \u001B[0;34m=\u001B[0m \u001B[0mtime\u001B[0m\u001B[0;34m.\u001B[0m\u001B[0mclock\u001B[0m\u001B[0;34m(\u001B[0m\u001B[0;34m)\u001B[0m\u001B[0;34m\u001B[0m\u001B[0;34m\u001B[0m\u001B[0m\n\u001B[0m\u001B[1;32m      9\u001B[0m         \u001B[0mres\u001B[0m \u001B[0;34m=\u001B[0m \u001B[0mfunc\u001B[0m\u001B[0;34m(\u001B[0m\u001B[0;34m*\u001B[0m\u001B[0margs\u001B[0m\u001B[0;34m,\u001B[0m \u001B[0;34m**\u001B[0m\u001B[0mkwargs\u001B[0m\u001B[0;34m)\u001B[0m\u001B[0;34m\u001B[0m\u001B[0;34m\u001B[0m\u001B[0m\n\u001B[1;32m     10\u001B[0m         \u001B[0mprint\u001B[0m\u001B[0;34m(\u001B[0m\u001B[0mfunc\u001B[0m\u001B[0;34m.\u001B[0m\u001B[0m__name__\u001B[0m\u001B[0;34m,\u001B[0m \u001B[0mtime\u001B[0m\u001B[0;34m.\u001B[0m\u001B[0mclock\u001B[0m\u001B[0;34m(\u001B[0m\u001B[0;34m)\u001B[0m \u001B[0;34m-\u001B[0m \u001B[0mt\u001B[0m\u001B[0;34m)\u001B[0m\u001B[0;34m\u001B[0m\u001B[0;34m\u001B[0m\u001B[0m\n",
      "\u001B[0;31mAttributeError\u001B[0m: module 'time' has no attribute 'clock'"
     ]
    }
   ],
   "source": [
    "def benchmark(func):\n",
    "    \"\"\"\n",
    "    Декоратор, выводящий время, которое заняло\n",
    "    выполнение декорируемой функции.\n",
    "    \"\"\"\n",
    "    import time\n",
    "    def wrapper(*args, **kwargs):\n",
    "        t = time.clock()\n",
    "        res = func(*args, **kwargs)\n",
    "        print(func.__name__, time.clock() - t)\n",
    "        return res\n",
    "    return wrapper\n",
    "\n",
    "\n",
    "def logging(func):\n",
    "    \"\"\"\n",
    "    Декоратор, логирующий работу кода.\n",
    "    (хорошо, он просто выводит вызовы, но тут могло быть и логирование!)\n",
    "    \"\"\"\n",
    "    def wrapper(*args, **kwargs):\n",
    "        res = func(*args, **kwargs)\n",
    "        print(func.__name__, args, kwargs)\n",
    "        return res\n",
    "    return wrapper\n",
    "\n",
    "\n",
    "def counter(func):\n",
    "    \"\"\"\n",
    "    Декоратор, считающий и выводящий количество вызовов\n",
    "    декорируемой функции.\n",
    "    \"\"\"\n",
    "    def wrapper(*args, **kwargs):\n",
    "        wrapper.count += 1\n",
    "        res = func(*args, **kwargs)\n",
    "        print(\"{0} была вызвана: {1}x\".format(func.__name__, wrapper.count))\n",
    "        return res\n",
    "    wrapper.count = 0\n",
    "    return wrapper\n",
    "\n",
    "\n",
    "@benchmark\n",
    "@logging\n",
    "@counter\n",
    "def reverse_string(string):\n",
    "    return str(reversed(string))\n",
    "\n",
    "print(reverse_string(\"А роза упала на лапу Азора\"))\n",
    "print(reverse_string(\"A man, a plan, a canoe, pasta, heros, rajahs, a coloratura, maps, snipe, percale, macaroni, a gag, a banana bag, a tan, a tag, a banana bag again (or a camel), a crepe, pins, Spam, a rut, a Rolo, cash, a jar, sore hats, a peon, a canal: Panama!\"))\n"
   ],
   "metadata": {
    "collapsed": false,
    "pycharm": {
     "name": "#%%\n"
    }
   }
  },
  {
   "cell_type": "markdown",
   "source": [
    "* Декораторы могут быть использованы для расширения:\n",
    "    * возможностей функций и классов;\n",
    "    * одним и тем же кодом.\n",
    "*\n",
    "* Декоратор вызывается ровно один раз.\n",
    "* Когда мы пишем `import x`\"` все функции из `x` декорируются сразу же, и мы уже не сможем ничего изменить."
   ],
   "metadata": {
    "collapsed": false,
    "pycharm": {
     "name": "#%% md\n"
    }
   }
  },
  {
   "cell_type": "markdown",
   "source": [
    "### Популярные декораторы\n",
    "\n",
    "## Модульное тестирование\n"
   ],
   "metadata": {
    "collapsed": false,
    "pycharm": {
     "name": "#%% md\n"
    }
   }
  }
 ],
 "metadata": {
  "kernelspec": {
   "display_name": "Python 3 (ipykernel)",
   "language": "python",
   "name": "python3"
  },
  "language_info": {
   "codemirror_mode": {
    "name": "ipython",
    "version": 3
   },
   "file_extension": ".py",
   "mimetype": "text/x-python",
   "name": "python",
   "nbconvert_exporter": "python",
   "pygments_lexer": "ipython3",
   "version": "3.9.6"
  }
 },
 "nbformat": 4,
 "nbformat_minor": 5
}