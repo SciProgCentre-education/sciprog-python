{
 "cells": [
  {
   "cell_type": "markdown",
   "id": "b3ca5ab0-59c5-4563-8189-269cd8299888",
   "metadata": {},
   "source": [
    "# Синтаксиc Python"
   ]
  },
  {
   "cell_type": "markdown",
   "id": "e567c94d-5cd7-4062-b05e-1756fdac5f79",
   "metadata": {
    "tags": []
   },
   "source": [
    "## Заголовок файла"
   ]
  },
  {
   "cell_type": "markdown",
   "id": "b8b278c2-be14-42c2-8892-8ddbeccea233",
   "metadata": {},
   "source": [
    "* [UNIX “shebang” line](https://docs.python.org/3/tutorial/appendix.html#tut-scripts - запуск через `.` : \n",
    "```\n",
    "chmod +x scrtipt.py\n",
    "./script.py\n",
    "```\n",
    "\n",
    "* Кодировка файла:\n",
    "```\n",
    "# -*- coding: encoding -*-\n",
    "```"
   ]
  },
  {
   "cell_type": "code",
   "execution_count": null,
   "id": "0b7306fd-3c05-469a-a0aa-ee78debfdc29",
   "metadata": {},
   "outputs": [],
   "source": []
  }
 ],
 "metadata": {
  "kernelspec": {
   "display_name": "Python 3",
   "language": "python",
   "name": "python3"
  },
  "language_info": {
   "codemirror_mode": {
    "name": "ipython",
    "version": 3
   },
   "file_extension": ".py",
   "mimetype": "text/x-python",
   "name": "python",
   "nbconvert_exporter": "python",
   "pygments_lexer": "ipython3",
   "version": "3.8.8"
  }
 },
 "nbformat": 4,
 "nbformat_minor": 5
}
