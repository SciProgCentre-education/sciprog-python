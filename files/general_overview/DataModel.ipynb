{
 "cells": [
  {
   "cell_type": "markdown",
   "id": "bd4710cb-372a-4ad7-9b2d-94e474de2663",
   "metadata": {},
   "source": [
    "# Объектно-ориентированное программирование"
   ]
  },
  {
   "cell_type": "markdown",
   "id": "63ff2630-50ff-4e31-99b7-c8c4714ae85f",
   "metadata": {
    "tags": [],
    "toc-hr-collapsed": true
   },
   "source": [
    "## Объявление класса\n",
    "\n",
    "* Все обычные поля класса публичные\n",
    "* Все методы класса виртуальные\n",
    "* Методы явно принимают экземпляр класса как первый аргумент"
   ]
  },
  {
   "cell_type": "code",
   "execution_count": 1,
   "id": "7c6098d7-18fe-4144-818a-197d549ceaea",
   "metadata": {
    "tags": []
   },
   "outputs": [],
   "source": [
    "class Vector2D:\n",
    "    x = 0\n",
    "    y = 0\n",
    "    \n",
    "    def norm(self):\n",
    "        return (self.x**2 + self.y**2)**0.5"
   ]
  },
  {
   "cell_type": "code",
   "execution_count": 3,
   "id": "97c8492e-0ca0-4ece-afbf-b66920e97f15",
   "metadata": {},
   "outputs": [],
   "source": [
    "def norm(self):\n",
    "    return (self.x**2 + self.y**2)**0.5"
   ]
  },
  {
   "cell_type": "code",
   "execution_count": 4,
   "id": "09c9eb95-e1e4-48c1-872c-9ce2eef50306",
   "metadata": {},
   "outputs": [],
   "source": [
    "vec = Vector2D()"
   ]
  },
  {
   "cell_type": "code",
   "execution_count": 5,
   "id": "bb115be7-7ec7-46d5-887f-8af9d6af72c3",
   "metadata": {},
   "outputs": [
    {
     "data": {
      "text/plain": [
       "7.0710678118654755"
      ]
     },
     "execution_count": 5,
     "metadata": {},
     "output_type": "execute_result"
    }
   ],
   "source": [
    "vec.x = 5\n",
    "vec.y = 5\n",
    "vec.norm()"
   ]
  },
  {
   "cell_type": "code",
   "execution_count": 6,
   "id": "da968f04-c99b-446c-85c6-fb21324bd9de",
   "metadata": {},
   "outputs": [
    {
     "data": {
      "text/plain": [
       "7.0710678118654755"
      ]
     },
     "execution_count": 6,
     "metadata": {},
     "output_type": "execute_result"
    }
   ],
   "source": [
    "norm(vec)"
   ]
  },
  {
   "cell_type": "markdown",
   "id": "23d6d775-c13e-4a19-bad0-0fb28cef3040",
   "metadata": {
    "tags": []
   },
   "source": [
    "## Больше о полях и методах\n",
    "\n",
    "### Data attributess"
   ]
  },
  {
   "cell_type": "code",
   "execution_count": 14,
   "id": "dd5f69a7-d3a5-4a0b-ba5d-6e60c7de03f8",
   "metadata": {},
   "outputs": [
    {
     "data": {
      "text/plain": [
       "10"
      ]
     },
     "execution_count": 14,
     "metadata": {},
     "output_type": "execute_result"
    }
   ],
   "source": [
    "vec.z = 10\n",
    "vec.z"
   ]
  },
  {
   "cell_type": "code",
   "execution_count": 15,
   "id": "82b8673f-4775-4a46-9cce-933bce7b6c01",
   "metadata": {},
   "outputs": [],
   "source": [
    "del vec.z"
   ]
  },
  {
   "cell_type": "code",
   "execution_count": 16,
   "id": "858026a0-7a78-4b5e-a85a-88b318b8996d",
   "metadata": {},
   "outputs": [
    {
     "ename": "AttributeError",
     "evalue": "'Vector2D' object has no attribute 'z'",
     "output_type": "error",
     "traceback": [
      "\u001b[0;31m---------------------------------------------------------------------------\u001b[0m",
      "\u001b[0;31mAttributeError\u001b[0m                            Traceback (most recent call last)",
      "\u001b[0;32m/tmp/ipykernel_3615/3490345127.py\u001b[0m in \u001b[0;36m<module>\u001b[0;34m\u001b[0m\n\u001b[0;32m----> 1\u001b[0;31m \u001b[0mvec\u001b[0m\u001b[0;34m.\u001b[0m\u001b[0mz\u001b[0m\u001b[0;34m\u001b[0m\u001b[0;34m\u001b[0m\u001b[0m\n\u001b[0m",
      "\u001b[0;31mAttributeError\u001b[0m: 'Vector2D' object has no attribute 'z'"
     ]
    }
   ],
   "source": [
    "vec.z"
   ]
  },
  {
   "cell_type": "markdown",
   "id": "2918ed30-f6e4-48e2-9f6a-b1b957e660f3",
   "metadata": {},
   "source": [
    "### Все в Python это объекты, классы это тоже объекты"
   ]
  },
  {
   "cell_type": "code",
   "execution_count": 17,
   "id": "2c0f12b7-06d9-488a-ae84-792747c5347b",
   "metadata": {},
   "outputs": [
    {
     "data": {
      "text/plain": [
       "type"
      ]
     },
     "execution_count": 17,
     "metadata": {},
     "output_type": "execute_result"
    }
   ],
   "source": [
    "type(Vector2D) # Vector2D это экземпляр класса type"
   ]
  },
  {
   "cell_type": "code",
   "execution_count": 42,
   "id": "cc584a4d-e305-4d5d-9811-8fd90b464184",
   "metadata": {},
   "outputs": [
    {
     "data": {
      "text/plain": [
       "True"
      ]
     },
     "execution_count": 42,
     "metadata": {},
     "output_type": "execute_result"
    }
   ],
   "source": [
    "isinstance(Vector2D, object)"
   ]
  },
  {
   "cell_type": "code",
   "execution_count": 18,
   "id": "9333f4a6-691b-4cb9-8ea3-1d534112d26a",
   "metadata": {},
   "outputs": [
    {
     "data": {
      "text/plain": [
       "(0, 0)"
      ]
     },
     "execution_count": 18,
     "metadata": {},
     "output_type": "execute_result"
    }
   ],
   "source": [
    "Vector2D.x, Vector2D.y # x и y это атрибутты класса"
   ]
  },
  {
   "cell_type": "code",
   "execution_count": 28,
   "id": "b8d3afd8-657c-446a-ab46-0ae3cdb796c0",
   "metadata": {},
   "outputs": [
    {
     "data": {
      "text/plain": [
       "5.0"
      ]
     },
     "execution_count": 28,
     "metadata": {},
     "output_type": "execute_result"
    }
   ],
   "source": [
    "Vector2D.norm(vec)"
   ]
  },
  {
   "cell_type": "markdown",
   "id": "5221e3ce-98f0-4ce7-8997-be40132d9471",
   "metadata": {},
   "source": [
    "### Мутабельные объекты как аттрибуты класса это плохая идея"
   ]
  },
  {
   "cell_type": "code",
   "execution_count": 19,
   "id": "1aa915e4-32ab-410a-b093-e1b0e408a131",
   "metadata": {},
   "outputs": [],
   "source": [
    "class Foo:\n",
    "    bar = []"
   ]
  },
  {
   "cell_type": "code",
   "execution_count": 20,
   "id": "41471529-8785-4863-905b-c38625c3d245",
   "metadata": {},
   "outputs": [],
   "source": [
    "foo1 = Foo()\n",
    "foo2 = Foo()"
   ]
  },
  {
   "cell_type": "code",
   "execution_count": 21,
   "id": "0881fbb6-a76f-4494-ba1c-3c0602123d3f",
   "metadata": {},
   "outputs": [],
   "source": [
    "foo1.bar.append(\"spam\")"
   ]
  },
  {
   "cell_type": "code",
   "execution_count": 22,
   "id": "3c224f70-dfcd-441f-bbaa-fbab1c968f36",
   "metadata": {},
   "outputs": [
    {
     "data": {
      "text/plain": [
       "['spam']"
      ]
     },
     "execution_count": 22,
     "metadata": {},
     "output_type": "execute_result"
    }
   ],
   "source": [
    "foo2.bar"
   ]
  },
  {
   "cell_type": "markdown",
   "id": "cb06a210-6e09-4203-8a2d-866b63046954",
   "metadata": {},
   "source": [
    "### Методы объекта отличаются от полей-функций объекта"
   ]
  },
  {
   "cell_type": "code",
   "execution_count": 36,
   "id": "d4becbc9-e9a9-46d3-9370-f0783e01bc37",
   "metadata": {},
   "outputs": [],
   "source": [
    "vec.func = lambda self : print(self.x)"
   ]
  },
  {
   "cell_type": "code",
   "execution_count": 37,
   "id": "94536c8d-1bd2-4f26-9cf2-959bf3ca2f12",
   "metadata": {},
   "outputs": [
    {
     "ename": "TypeError",
     "evalue": "<lambda>() missing 1 required positional argument: 'self'",
     "output_type": "error",
     "traceback": [
      "\u001b[0;31m---------------------------------------------------------------------------\u001b[0m",
      "\u001b[0;31mTypeError\u001b[0m                                 Traceback (most recent call last)",
      "\u001b[0;32m/tmp/ipykernel_3615/2340840830.py\u001b[0m in \u001b[0;36m<module>\u001b[0;34m\u001b[0m\n\u001b[0;32m----> 1\u001b[0;31m \u001b[0mvec\u001b[0m\u001b[0;34m.\u001b[0m\u001b[0mfunc\u001b[0m\u001b[0;34m(\u001b[0m\u001b[0;34m)\u001b[0m \u001b[0;31m# self не передается в поля-функции\u001b[0m\u001b[0;34m\u001b[0m\u001b[0;34m\u001b[0m\u001b[0m\n\u001b[0m",
      "\u001b[0;31mTypeError\u001b[0m: <lambda>() missing 1 required positional argument: 'self'"
     ]
    }
   ],
   "source": [
    "vec.func() # self не передается в поля-функции"
   ]
  },
  {
   "cell_type": "code",
   "execution_count": 38,
   "id": "385e688c-f2e2-4add-a18f-b110dc04dfbc",
   "metadata": {},
   "outputs": [
    {
     "data": {
      "text/plain": [
       "method"
      ]
     },
     "execution_count": 38,
     "metadata": {},
     "output_type": "execute_result"
    }
   ],
   "source": [
    "type(vec.norm)"
   ]
  },
  {
   "cell_type": "code",
   "execution_count": 39,
   "id": "da46e4c5-0bda-432f-b2a8-e67723904d41",
   "metadata": {},
   "outputs": [
    {
     "data": {
      "text/plain": [
       "function"
      ]
     },
     "execution_count": 39,
     "metadata": {},
     "output_type": "execute_result"
    }
   ],
   "source": [
    "type(vec.func)"
   ]
  },
  {
   "cell_type": "markdown",
   "id": "e4d7831f-cdff-4914-9bee-2629986ca385",
   "metadata": {},
   "source": [
    "#### Но метод остается методом"
   ]
  },
  {
   "cell_type": "code",
   "execution_count": 25,
   "id": "48bc592d-cf00-48e6-b1ab-ff73fa8e6f39",
   "metadata": {},
   "outputs": [],
   "source": [
    "func_norm = vec.norm"
   ]
  },
  {
   "cell_type": "code",
   "execution_count": 26,
   "id": "03b2ee58-9a03-40e2-9134-6a3b7083892b",
   "metadata": {},
   "outputs": [
    {
     "data": {
      "text/plain": [
       "method"
      ]
     },
     "execution_count": 26,
     "metadata": {},
     "output_type": "execute_result"
    }
   ],
   "source": [
    "type(func_norm)"
   ]
  },
  {
   "cell_type": "code",
   "execution_count": 15,
   "id": "f75cc898-9cec-4ed1-b9d2-3ec80be4b7aa",
   "metadata": {},
   "outputs": [
    {
     "data": {
      "text/plain": [
       "7.0710678118654755"
      ]
     },
     "execution_count": 15,
     "metadata": {},
     "output_type": "execute_result"
    }
   ],
   "source": [
    "func_norm()"
   ]
  },
  {
   "cell_type": "markdown",
   "id": "4a04cdf8-2b74-4013-9d66-3ab4f7279f78",
   "metadata": {},
   "source": [
    "### Методы это функции класса"
   ]
  },
  {
   "cell_type": "code",
   "execution_count": 41,
   "id": "85a8be17-07f5-4ed3-a60e-bfd2662dd897",
   "metadata": {},
   "outputs": [
    {
     "data": {
      "text/plain": [
       "method"
      ]
     },
     "execution_count": 41,
     "metadata": {},
     "output_type": "execute_result"
    }
   ],
   "source": [
    "type(vec.norm)"
   ]
  },
  {
   "cell_type": "code",
   "execution_count": 40,
   "id": "46c0ab9c-6138-46a8-86dd-7bcdef7b29cf",
   "metadata": {},
   "outputs": [
    {
     "data": {
      "text/plain": [
       "function"
      ]
     },
     "execution_count": 40,
     "metadata": {},
     "output_type": "execute_result"
    }
   ],
   "source": [
    "type(Vector2D.norm)"
   ]
  },
  {
   "cell_type": "code",
   "execution_count": 42,
   "id": "a079ddd4-6bf4-4f5a-97b3-531367951070",
   "metadata": {},
   "outputs": [
    {
     "data": {
      "text/plain": [
       "True"
      ]
     },
     "execution_count": 42,
     "metadata": {},
     "output_type": "execute_result"
    }
   ],
   "source": [
    "vec.norm() == Vector2D.norm(vec)"
   ]
  },
  {
   "cell_type": "code",
   "execution_count": 43,
   "id": "d16b5f34-1fb7-4673-bb99-3c75e87ed387",
   "metadata": {},
   "outputs": [],
   "source": [
    "def another_norm(self):\n",
    "    return abs(self.x + self.y)"
   ]
  },
  {
   "cell_type": "code",
   "execution_count": 44,
   "id": "aeddd57e-790d-4eff-a7ae-04468ede3294",
   "metadata": {},
   "outputs": [],
   "source": [
    "Vector2D.another_norm = another_norm"
   ]
  },
  {
   "cell_type": "code",
   "execution_count": 48,
   "id": "0848d713-612b-4c48-ab4b-ad444bfca4cb",
   "metadata": {},
   "outputs": [
    {
     "data": {
      "text/plain": [
       "function"
      ]
     },
     "execution_count": 48,
     "metadata": {},
     "output_type": "execute_result"
    }
   ],
   "source": [
    "type(Vector2D.another_norm)"
   ]
  },
  {
   "cell_type": "code",
   "execution_count": 45,
   "id": "f58225fa-3f49-4c4e-ac8d-b54d85d6c780",
   "metadata": {},
   "outputs": [],
   "source": [
    "vec = Vector2D()"
   ]
  },
  {
   "cell_type": "code",
   "execution_count": 46,
   "id": "76ebba36-d1e4-4e6b-a02e-27a378e7fc19",
   "metadata": {},
   "outputs": [
    {
     "data": {
      "text/plain": [
       "0"
      ]
     },
     "execution_count": 46,
     "metadata": {},
     "output_type": "execute_result"
    }
   ],
   "source": [
    "vec.another_norm()"
   ]
  },
  {
   "cell_type": "code",
   "execution_count": 47,
   "id": "e8e3dc0a-285f-4dfa-85d0-4eda6ac3ce14",
   "metadata": {},
   "outputs": [
    {
     "data": {
      "text/plain": [
       "method"
      ]
     },
     "execution_count": 47,
     "metadata": {},
     "output_type": "execute_result"
    }
   ],
   "source": [
    "type(vec.another_norm)"
   ]
  },
  {
   "cell_type": "markdown",
   "id": "48f2faab-c88f-427c-9d95-ea7641b970c3",
   "metadata": {},
   "source": [
    "### Приватные поля\n",
    "\n",
    "* `_spam` --- поля чьё имя начинается с подчеркивания подразумеваются как не публичные "
   ]
  },
  {
   "cell_type": "code",
   "execution_count": 49,
   "id": "5be4d145-dbd0-447c-b5fd-250cd6029e81",
   "metadata": {},
   "outputs": [],
   "source": [
    "class Foo:\n",
    "    spam = \"public\"\n",
    "    _spam = \"типа приватное\""
   ]
  },
  {
   "cell_type": "code",
   "execution_count": 50,
   "id": "08143c01-2b48-4b51-b22b-f03868a0036a",
   "metadata": {},
   "outputs": [],
   "source": [
    "foo = Foo()\n"
   ]
  },
  {
   "cell_type": "markdown",
   "id": "3576b74a-2fa7-4d0a-8f9d-fbfef67b4125",
   "metadata": {},
   "source": [
    "## Магические методы "
   ]
  },
  {
   "cell_type": "code",
   "execution_count": 26,
   "id": "ca862820-b296-470f-a337-0c425c021604",
   "metadata": {},
   "outputs": [],
   "source": [
    "class Foo:\n",
    "    pass"
   ]
  },
  {
   "cell_type": "code",
   "execution_count": 27,
   "id": "3b7f6534-f2ab-40b1-8be4-9e726fc014d6",
   "metadata": {
    "collapsed": true,
    "jupyter": {
     "outputs_hidden": true
    },
    "tags": []
   },
   "outputs": [
    {
     "data": {
      "text/plain": [
       "['__class__',\n",
       " '__delattr__',\n",
       " '__dict__',\n",
       " '__dir__',\n",
       " '__doc__',\n",
       " '__eq__',\n",
       " '__format__',\n",
       " '__ge__',\n",
       " '__getattribute__',\n",
       " '__gt__',\n",
       " '__hash__',\n",
       " '__init__',\n",
       " '__init_subclass__',\n",
       " '__le__',\n",
       " '__lt__',\n",
       " '__module__',\n",
       " '__ne__',\n",
       " '__new__',\n",
       " '__reduce__',\n",
       " '__reduce_ex__',\n",
       " '__repr__',\n",
       " '__setattr__',\n",
       " '__sizeof__',\n",
       " '__str__',\n",
       " '__subclasshook__',\n",
       " '__weakref__']"
      ]
     },
     "execution_count": 27,
     "metadata": {},
     "output_type": "execute_result"
    }
   ],
   "source": [
    "dir(Foo)"
   ]
  },
  {
   "cell_type": "code",
   "execution_count": 29,
   "id": "1444c02c-a270-4046-90ff-2007704b3b00",
   "metadata": {},
   "outputs": [],
   "source": [
    "def fun():\n",
    "    pass"
   ]
  },
  {
   "cell_type": "code",
   "execution_count": 30,
   "id": "f6714eff-8e1e-4a46-b2b9-b9a1b8201193",
   "metadata": {
    "collapsed": true,
    "jupyter": {
     "outputs_hidden": true
    },
    "tags": []
   },
   "outputs": [
    {
     "data": {
      "text/plain": [
       "['__annotations__',\n",
       " '__call__',\n",
       " '__class__',\n",
       " '__closure__',\n",
       " '__code__',\n",
       " '__defaults__',\n",
       " '__delattr__',\n",
       " '__dict__',\n",
       " '__dir__',\n",
       " '__doc__',\n",
       " '__eq__',\n",
       " '__format__',\n",
       " '__ge__',\n",
       " '__get__',\n",
       " '__getattribute__',\n",
       " '__globals__',\n",
       " '__gt__',\n",
       " '__hash__',\n",
       " '__init__',\n",
       " '__init_subclass__',\n",
       " '__kwdefaults__',\n",
       " '__le__',\n",
       " '__lt__',\n",
       " '__module__',\n",
       " '__name__',\n",
       " '__ne__',\n",
       " '__new__',\n",
       " '__qualname__',\n",
       " '__reduce__',\n",
       " '__reduce_ex__',\n",
       " '__repr__',\n",
       " '__setattr__',\n",
       " '__sizeof__',\n",
       " '__str__',\n",
       " '__subclasshook__']"
      ]
     },
     "execution_count": 30,
     "metadata": {},
     "output_type": "execute_result"
    }
   ],
   "source": [
    "dir(fun)"
   ]
  },
  {
   "cell_type": "markdown",
   "id": "81cceaa1-97de-4a5a-b385-19f123bcf8b7",
   "metadata": {},
   "source": [
    "* Управляют внутренней работой объектов\n",
    "* Вызываются при использовании синтаксических конструкций\n",
    "* Вызываются встроенными (builtins) функциями\n",
    "* Рефлексия и метапрограммирование"
   ]
  },
  {
   "cell_type": "code",
   "execution_count": 31,
   "id": "64931683-15b6-4971-89f5-e2b11e164131",
   "metadata": {},
   "outputs": [],
   "source": [
    "class TenItemList:\n",
    "    \n",
    "    def __len__(self):\n",
    "        return 10"
   ]
  },
  {
   "cell_type": "code",
   "execution_count": 32,
   "id": "b1200704-ee11-4160-96ae-94989119ad5e",
   "metadata": {},
   "outputs": [],
   "source": [
    "ten_item_list = TenItemList()"
   ]
  },
  {
   "cell_type": "code",
   "execution_count": 33,
   "id": "af26afc4-c628-4ce1-85f4-7235d678ed32",
   "metadata": {},
   "outputs": [
    {
     "data": {
      "text/plain": [
       "10"
      ]
     },
     "execution_count": 33,
     "metadata": {},
     "output_type": "execute_result"
    }
   ],
   "source": [
    "len(ten_item_list)"
   ]
  },
  {
   "cell_type": "markdown",
   "id": "2d67ed05-2e96-4e50-8638-1a92ed91c274",
   "metadata": {},
   "source": [
    "### Всё в Python является объектом, а все синтаксические конструкции сводятся к вызовам магическим методов"
   ]
  },
  {
   "cell_type": "code",
   "execution_count": 2,
   "id": "f567abce-070c-4681-8653-6739af39aad2",
   "metadata": {},
   "outputs": [],
   "source": [
    "vec = Vector2D()"
   ]
  },
  {
   "cell_type": "code",
   "execution_count": 3,
   "id": "e1f1f47e-6176-4890-8fe8-c6598dddfd72",
   "metadata": {},
   "outputs": [
    {
     "data": {
      "text/plain": [
       "0"
      ]
     },
     "execution_count": 3,
     "metadata": {},
     "output_type": "execute_result"
    }
   ],
   "source": [
    "vec.__getattribute__(\"x\")"
   ]
  },
  {
   "cell_type": "code",
   "execution_count": 4,
   "id": "ef3b827d-bdd4-414d-8ed1-c122da2a8aac",
   "metadata": {},
   "outputs": [],
   "source": [
    "vec.x = 5"
   ]
  },
  {
   "cell_type": "code",
   "execution_count": 5,
   "id": "51631223-87ec-407e-ae96-4e4bcc640aaa",
   "metadata": {},
   "outputs": [
    {
     "data": {
      "text/plain": [
       "5"
      ]
     },
     "execution_count": 5,
     "metadata": {},
     "output_type": "execute_result"
    }
   ],
   "source": [
    "vec.__getattribute__(\"x\")"
   ]
  },
  {
   "cell_type": "code",
   "execution_count": 6,
   "id": "9dbc8b17-84ec-4236-b647-6dc7dc7d8b18",
   "metadata": {},
   "outputs": [],
   "source": [
    "vec.__setattr__(\"x\", 10)"
   ]
  },
  {
   "cell_type": "code",
   "execution_count": 7,
   "id": "8bf5c6a7-70ca-411c-aef6-cefbaa6d5b8b",
   "metadata": {},
   "outputs": [
    {
     "data": {
      "text/plain": [
       "10"
      ]
     },
     "execution_count": 7,
     "metadata": {},
     "output_type": "execute_result"
    }
   ],
   "source": [
    "vec.x"
   ]
  },
  {
   "cell_type": "markdown",
   "id": "1ba03198-acbe-4425-8578-fe3f57ae91bc",
   "metadata": {},
   "source": [
    "### На самом деле все объекты реализованы как словари хранящие атрибуты объекта (однако есть возможности для оптимизаций)"
   ]
  },
  {
   "cell_type": "code",
   "execution_count": 8,
   "id": "1c0f21c7-9c03-43b7-b3ca-591c4499d0e7",
   "metadata": {},
   "outputs": [],
   "source": [
    "vec = Vector2D()"
   ]
  },
  {
   "cell_type": "code",
   "execution_count": 9,
   "id": "b2375481-fb32-40bd-9d9c-a156a05fa9c9",
   "metadata": {},
   "outputs": [
    {
     "data": {
      "text/plain": [
       "{}"
      ]
     },
     "execution_count": 9,
     "metadata": {},
     "output_type": "execute_result"
    }
   ],
   "source": [
    "vec.__dict__"
   ]
  },
  {
   "cell_type": "code",
   "execution_count": 10,
   "id": "1782fc2f-b25f-47d7-b8ef-0371b332a391",
   "metadata": {},
   "outputs": [
    {
     "data": {
      "text/plain": [
       "mappingproxy({'__module__': '__main__',\n",
       "              'x': 0,\n",
       "              'y': 0,\n",
       "              'norm': <function __main__.Vector2D.norm(self)>,\n",
       "              '__dict__': <attribute '__dict__' of 'Vector2D' objects>,\n",
       "              '__weakref__': <attribute '__weakref__' of 'Vector2D' objects>,\n",
       "              '__doc__': None})"
      ]
     },
     "execution_count": 10,
     "metadata": {},
     "output_type": "execute_result"
    }
   ],
   "source": [
    "Vector2D.__dict__"
   ]
  },
  {
   "cell_type": "code",
   "execution_count": 11,
   "id": "06c72164-990c-43c1-802b-50f716c15456",
   "metadata": {},
   "outputs": [],
   "source": [
    "vec.x = 5"
   ]
  },
  {
   "cell_type": "code",
   "execution_count": 13,
   "id": "381249a7-f862-41ef-a5f8-9df87c3efe31",
   "metadata": {},
   "outputs": [
    {
     "data": {
      "text/plain": [
       "{'x': 5}"
      ]
     },
     "execution_count": 13,
     "metadata": {},
     "output_type": "execute_result"
    }
   ],
   "source": [
    "vec.__dict__"
   ]
  },
  {
   "cell_type": "code",
   "execution_count": 54,
   "id": "f99dc337-e504-4f34-91e2-fa232922752f",
   "metadata": {},
   "outputs": [
    {
     "ename": "TypeError",
     "evalue": "'Vector2D' object is not subscriptable",
     "output_type": "error",
     "traceback": [
      "\u001b[0;31m---------------------------------------------------------------------------\u001b[0m",
      "\u001b[0;31mTypeError\u001b[0m                                 Traceback (most recent call last)",
      "\u001b[0;32m<ipython-input-54-ab682c5022e1>\u001b[0m in \u001b[0;36m<module>\u001b[0;34m\u001b[0m\n\u001b[0;32m----> 1\u001b[0;31m \u001b[0mvec\u001b[0m\u001b[0;34m[\u001b[0m\u001b[0;34m\"x\"\u001b[0m\u001b[0;34m]\u001b[0m\u001b[0;34m\u001b[0m\u001b[0;34m\u001b[0m\u001b[0m\n\u001b[0m",
      "\u001b[0;31mTypeError\u001b[0m: 'Vector2D' object is not subscriptable"
     ]
    }
   ],
   "source": [
    "class Foo:\n",
    "    def __set"
   ]
  },
  {
   "cell_type": "code",
   "execution_count": null,
   "id": "d96fc68e-fd26-4882-a0fe-d275716e8502",
   "metadata": {},
   "outputs": [],
   "source": []
  }
 ],
 "metadata": {
  "kernelspec": {
   "display_name": "Python 3 (ipykernel)",
   "language": "python",
   "name": "python3"
  },
  "language_info": {
   "codemirror_mode": {
    "name": "ipython",
    "version": 3
   },
   "file_extension": ".py",
   "mimetype": "text/x-python",
   "name": "python",
   "nbconvert_exporter": "python",
   "pygments_lexer": "ipython3",
   "version": "3.9.6"
  },
  "toc-autonumbering": true
 },
 "nbformat": 4,
 "nbformat_minor": 5
}
