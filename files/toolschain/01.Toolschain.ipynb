{
 "cells": [
  {
   "cell_type": "markdown",
   "source": [
    "# Инструменты разработки на Python\n",
    "\n",
    "## Интерактивные среды\n",
    "\n",
    "* python\n",
    "* ipython\n",
    "    * jupyter-notebooks (retro lab)\n",
    "    * jupyter-lab\n",
    "* pyolite\n",
    "\n",
    "### IPython\n",
    "\n",
    "* Альтернативная оболочка\n",
    "* Взаимодействие с графическим виджетами (Tkinter, GTK, QT, WX)\n",
    "* [ipyparallel](https://ipyparallel.readthedocs.io/en/latest/) - иструменты для параллельных вычислений\n",
    "* Ядро для Jupyter\n",
    "\n",
    "#### Магические команды"
   ],
   "metadata": {
    "collapsed": false,
    "pycharm": {
     "name": "#%% md\n"
    }
   }
  },
  {
   "cell_type": "code",
   "execution_count": 1,
   "outputs": [],
   "source": [
    "%magic"
   ],
   "metadata": {
    "collapsed": false,
    "pycharm": {
     "name": "#%%\n"
    }
   }
  },
  {
   "cell_type": "code",
   "execution_count": 2,
   "outputs": [],
   "source": [
    "import numpy as np"
   ],
   "metadata": {
    "collapsed": false,
    "pycharm": {
     "name": "#%%\n"
    }
   }
  },
  {
   "cell_type": "code",
   "execution_count": 21,
   "outputs": [
    {
     "name": "stdout",
     "output_type": "stream",
     "text": [
      "190 µs ± 9.01 µs per loop (mean ± std. dev. of 7 runs, 1000 loops each)\n"
     ]
    }
   ],
   "source": [
    "%timeit x = np.random.randn(100, 100)"
   ],
   "metadata": {
    "collapsed": false,
    "pycharm": {
     "name": "#%%\n"
    }
   }
  },
  {
   "cell_type": "code",
   "execution_count": 23,
   "outputs": [
    {
     "name": "stdout",
     "output_type": "stream",
     "text": [
      "1.82 ms ± 45.6 µs per loop (mean ± std. dev. of 7 runs, 1000 loops each)\n"
     ]
    }
   ],
   "source": [
    "%%timeit\n",
    "x = np.random.randn(100, 100)\n",
    "np.linalg.svd(x)"
   ],
   "metadata": {
    "collapsed": false,
    "pycharm": {
     "name": "#%%\n"
    }
   }
  },
  {
   "cell_type": "code",
   "execution_count": 1,
   "outputs": [
    {
     "name": "stdout",
     "output_type": "stream",
     "text": [
      "Collecting Cython\r\n",
      "  Downloading Cython-0.29.24-cp39-cp39-manylinux1_x86_64.whl (1.9 MB)\r\n",
      "\u001B[K     |████████████████████████████████| 1.9 MB 767 kB/s eta 0:00:01\r\n",
      "\u001B[?25hInstalling collected packages: Cython\r\n",
      "Successfully installed Cython-0.29.24\r\n"
     ]
    }
   ],
   "source": [
    "!pip install Cython"
   ],
   "metadata": {
    "collapsed": false,
    "pycharm": {
     "name": "#%%\n"
    }
   }
  },
  {
   "cell_type": "code",
   "execution_count": 4,
   "outputs": [],
   "source": [
    "%load_ext Cython"
   ],
   "metadata": {
    "collapsed": false,
    "pycharm": {
     "name": "#%%\n"
    }
   }
  },
  {
   "cell_type": "code",
   "execution_count": 5,
   "outputs": [],
   "source": [
    "%%cython -a\n",
    "\n",
    "cdef int a = 0\n",
    "for i in range(10):\n",
    "    a += i\n",
    "print(a)\n"
   ],
   "metadata": {
    "collapsed": false,
    "pycharm": {
     "name": "#%%\n"
    }
   }
  },
  {
   "cell_type": "markdown",
   "source": [
    "## Виртуальные окружения\n",
    "\n",
    "* [`venv` - Creation of virtual environments](https://docs.python.org/3/library/venv.html) - входит в стандартную библиотеку\n",
    "* [`virtualenv` - A tool for creating isolated virtual python environments](https://virtualenv.pypa.io/en/latest/)\n",
    "* [Conda environments](https://conda.io/projects/conda/en/latest/user-guide/tasks/manage-environments.html#managing-environments)\n",
    "\n",
    "## PEP: Python Enhancement Proposals\n",
    "\n",
    "* [PEP 0](https://www.python.org/dev/peps/) -  Index of Python Enhancement Proposals\n",
    "* [PEP 8](https://www.python.org/dev/peps/pep-0008/) - Style Guide for Python Code\n",
    "\n",
    "## Linter\n",
    "\n",
    "* **Lint** or **Linter** - инструмент для статического анализа кода:\n",
    "  * Соответствие кода Codestyle\n",
    "  * Выявление подозрительного кода\n",
    "  * Помощь в рефакторинге\n",
    "\n",
    "## Debuger\n",
    "\n",
    "* [PyDev](https://www.pydev.org/)\n",
    "\n",
    "## VCS\n",
    "\n",
    "* Git\n",
    "* Mercurial\n",
    "* Another"
   ],
   "metadata": {
    "collapsed": false,
    "pycharm": {
     "name": "#%% md\n"
    }
   }
  },
  {
   "cell_type": "code",
   "execution_count": null,
   "outputs": [],
   "source": [],
   "metadata": {
    "collapsed": false,
    "pycharm": {
     "name": "#%%\n"
    }
   }
  }
 ],
 "metadata": {
  "kernelspec": {
   "display_name": "Python 3",
   "language": "python",
   "name": "python3"
  },
  "language_info": {
   "codemirror_mode": {
    "name": "ipython",
    "version": 2
   },
   "file_extension": ".py",
   "mimetype": "text/x-python",
   "name": "python",
   "nbconvert_exporter": "python",
   "pygments_lexer": "ipython2",
   "version": "2.7.6"
  }
 },
 "nbformat": 4,
 "nbformat_minor": 0
}